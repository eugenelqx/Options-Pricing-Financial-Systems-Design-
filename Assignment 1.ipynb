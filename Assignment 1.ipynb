{
 "cells": [
  {
   "cell_type": "markdown",
   "metadata": {
    "deletable": false,
    "editable": false,
    "nbgrader": {
     "cell_type": "markdown",
     "checksum": "6331247f1bb74ae9db132dc6428e155f",
     "grade": false,
     "grade_id": "cell-b20b9584b9646f50",
     "locked": true,
     "schema_version": 3,
     "solution": false,
     "task": false
    }
   },
   "source": [
    "# ESD 40.317 Financial Systems Design \n",
    "## Part 2 Assignment 1\n",
    "### Due: 12 July before midnight \n",
    "\n",
    "Do not change any of the function definitions or variable names that are given in the cells for you to provide the solution. These function and variable names are used to autograde your solution and changing them might cause the autograder to fail and hence award 0 marks."
   ]
  },
  {
   "cell_type": "markdown",
   "metadata": {
    "deletable": false,
    "editable": false,
    "nbgrader": {
     "cell_type": "markdown",
     "checksum": "c994ba99c39346c95fe1dd2adfbfe486",
     "grade": false,
     "grade_id": "cell-00786f0f8784104e",
     "locked": true,
     "schema_version": 3,
     "solution": false,
     "task": false
    }
   },
   "source": [
    "### Question 1: Risk neutral measure and Arrow securities\n",
    "\n",
    "Consider a financial asset current priced at \\\\$100. There are only 5 possible states for this asset price in the next period: \n",
    "1. \\\\$50\n",
    "2. \\\\$75 \n",
    "3. \\\\$100\n",
    "4. \\\\$125 \n",
    "5. \\\\$x \n",
    "\n",
    "There are Arrow securities trading with a payout corresponding to each of these states (recall that an Arrow security pays out \\\\$1 in a specific state and $0 for all other states). \n",
    "\n",
    "| State | Price of asset in next period | Price of Arrow security paying $1 in current period |\n",
    "|:-----:|:-----------------------------:|:---------------------------------------------------:|\n",
    "|   1   |             \\\\$50.00          |                       \\\\$0.05                       |\n",
    "|   2   |             \\\\$75.00          |                       \\\\$0.15                       |\n",
    "|   3   |             \\\\$100.00         |                       \\\\$0.45                       |\n",
    "|   4   |             \\\\$125.00         |                       \\\\$0.20                       |\n",
    "|   5   |             \\\\$x              |                       \\\\$0.10                       |\n",
    "\n",
    "\n",
    "Assume that you can buy or short both the asset and the Arrow securities in any **integer** amount for the questions below.\n",
    "\n",
    "Run the cell below which imports the packages required for a) to d)."
   ]
  },
  {
   "cell_type": "code",
   "execution_count": 1,
   "metadata": {
    "deletable": false,
    "editable": false,
    "nbgrader": {
     "cell_type": "code",
     "checksum": "4fa5029d8b1d94c1b2a08857a4596237",
     "grade": false,
     "grade_id": "cell-897d1bbaa5df817a",
     "locked": true,
     "schema_version": 3,
     "solution": false,
     "task": false
    }
   },
   "outputs": [],
   "source": [
    "import numpy as np\n",
    "import math"
   ]
  },
  {
   "cell_type": "markdown",
   "metadata": {
    "deletable": false,
    "editable": false,
    "nbgrader": {
     "cell_type": "markdown",
     "checksum": "09fe9ec81c337158af0f0bfdb5745a45",
     "grade": false,
     "grade_id": "cell-51a171bf25bcea05",
     "locked": true,
     "schema_version": 3,
     "solution": false,
     "task": false
    }
   },
   "source": [
    "a) What is the implied interest rate per period based on the prices of the Arrow securities if there is no arbitrage in the system (assume it is the same for both borrowing and deposits)? \n",
    "\n",
    "(10 marks)\n",
    "\n",
    "Run the cell below where the Arrow securities' prices have been assigned to a numpy array. In the following cell, calculate the value of the implied interest rate and assign it to the variable **rate**. The value must be at least accurate to 4 significant figures."
   ]
  },
  {
   "cell_type": "code",
   "execution_count": 2,
   "metadata": {
    "deletable": false,
    "editable": false,
    "nbgrader": {
     "cell_type": "code",
     "checksum": "f58217f0126c7ab96f0b98548d8175a6",
     "grade": false,
     "grade_id": "cell-7b72a313bc9136dd",
     "locked": true,
     "schema_version": 3,
     "solution": false,
     "task": false
    }
   },
   "outputs": [],
   "source": [
    "arrows = np.array([0.05, 0.15, 0.45, 0.2, 0.1])"
   ]
  },
  {
   "cell_type": "code",
   "execution_count": 3,
   "metadata": {
    "deletable": false,
    "nbgrader": {
     "cell_type": "code",
     "checksum": "c76c201d81739ce738dd08ac403546e8",
     "grade": false,
     "grade_id": "cell-706448cde321bb78",
     "locked": false,
     "schema_version": 3,
     "solution": true,
     "task": false
    }
   },
   "outputs": [
    {
     "data": {
      "text/plain": [
       "0.05263157894736836"
      ]
     },
     "execution_count": 3,
     "metadata": {},
     "output_type": "execute_result"
    }
   ],
   "source": [
    "rate = (1/np.sum(arrows))-1\n",
    "rate"
   ]
  },
  {
   "cell_type": "code",
   "execution_count": 4,
   "metadata": {
    "deletable": false,
    "editable": false,
    "nbgrader": {
     "cell_type": "code",
     "checksum": "f603bd5e15d5ff6c11b37ba60dbd14e2",
     "grade": true,
     "grade_id": "cell-deb43510b651beb1",
     "locked": true,
     "points": 10,
     "schema_version": 3,
     "solution": false,
     "task": false
    }
   },
   "outputs": [],
   "source": [
    "assert isinstance(rate, float)\n",
    "assert rate > 0"
   ]
  },
  {
   "cell_type": "markdown",
   "metadata": {
    "deletable": false,
    "editable": false,
    "nbgrader": {
     "cell_type": "markdown",
     "checksum": "6558f536c4040e498c027eae8041de4a",
     "grade": false,
     "grade_id": "cell-1fbfaa4362695fec",
     "locked": true,
     "schema_version": 3,
     "solution": false,
     "task": false
    }
   },
   "source": [
    "b) What should x be to prevent arbitrage in the system? \n",
    "\n",
    "(10 marks)\n",
    "\n",
    "Run the cell below where the asset price in the first 4 states have been assigned to a numpy array. In the following cell, assign the correct value to the variable **x**."
   ]
  },
  {
   "cell_type": "code",
   "execution_count": 5,
   "metadata": {
    "deletable": false,
    "editable": false,
    "nbgrader": {
     "cell_type": "code",
     "checksum": "0085cc9b996765451ab47f607e4caf23",
     "grade": false,
     "grade_id": "cell-caab587ed0aeb0f4",
     "locked": true,
     "schema_version": 3,
     "solution": false,
     "task": false
    }
   },
   "outputs": [],
   "source": [
    "partial_states = np.array([50, 75, 100, 125])"
   ]
  },
  {
   "cell_type": "code",
   "execution_count": 6,
   "metadata": {
    "deletable": false,
    "nbgrader": {
     "cell_type": "code",
     "checksum": "7a4317102b094de09e7db96727f230c7",
     "grade": false,
     "grade_id": "cell-2da77350c160b614",
     "locked": false,
     "schema_version": 3,
     "solution": true,
     "task": false
    }
   },
   "outputs": [],
   "source": [
    "price = np.array([0.05, 0.15, 0.45, 0.2])\n",
    "x = (100-np.dot(price, partial_states))/0.1\n",
    "# x "
   ]
  },
  {
   "cell_type": "code",
   "execution_count": 7,
   "metadata": {
    "deletable": false,
    "editable": false,
    "nbgrader": {
     "cell_type": "code",
     "checksum": "807b50082caa88a945749a8ee6785898",
     "grade": true,
     "grade_id": "cell-7ec849bfa978577d",
     "locked": true,
     "points": 10,
     "schema_version": 3,
     "solution": false,
     "task": false
    }
   },
   "outputs": [],
   "source": [
    "assert x > 0"
   ]
  },
  {
   "cell_type": "markdown",
   "metadata": {
    "deletable": false,
    "editable": false,
    "nbgrader": {
     "cell_type": "markdown",
     "checksum": "427eff848b8f95818b9fd07c6ee159d5",
     "grade": false,
     "grade_id": "cell-4eba6babb35e2a4e",
     "locked": true,
     "schema_version": 3,
     "solution": false,
     "task": false
    }
   },
   "source": [
    "c)\tWhat if x were \\\\$150? How do you construct an arbitrage opportunity? \n",
    "\n",
    "(15 marks)\n",
    "\n",
    "In the coding cell below, set the amounts you will buy or sell the asset and the Arrow securities to create the arbitrage opportunity. For example, if you would like to:\n",
    "1. Buy 1 unit of the asset\n",
    "2. Short sell 10 units of Arrow security for state 1\n",
    "3. Short sell 20 units of Arrow security for state 2\n",
    "4. Short sell 30 units of Arrow security for state 3\n",
    "5. Buy 40 units of Arrow security for state 4\n",
    "6. Buy 50 units of Arrow security for state 5\n",
    "\n",
    "Then you should set the weights to:  \n",
    "asset_weight = 1  \n",
    "arrow_weights = [-10, -20, -30, 40, 50]\n",
    "\n",
    "Note that the possible weight combinations to create an arbitrage opportunity is infinite i.e. the answer is not unique. You just need to show one combination that works."
   ]
  },
  {
   "cell_type": "code",
   "execution_count": 8,
   "metadata": {
    "deletable": false,
    "nbgrader": {
     "cell_type": "code",
     "checksum": "720feb78f2e83aecf6e9107f49b57a86",
     "grade": false,
     "grade_id": "cell-83cdcd9fa18ca349",
     "locked": false,
     "schema_version": 3,
     "solution": true,
     "task": false
    }
   },
   "outputs": [],
   "source": [
    "# CHANGE WEIGHTS BELOW\n",
    "asset_weight = -1\n",
    "arrow_weights = np.array([50, 75, 100, 125, 150])"
   ]
  },
  {
   "cell_type": "code",
   "execution_count": 9,
   "metadata": {
    "deletable": false,
    "editable": false,
    "nbgrader": {
     "cell_type": "code",
     "checksum": "06a1032d4ecf9773fd4b6b59f5f6d08e",
     "grade": true,
     "grade_id": "cell-39788297ac7151b3",
     "locked": true,
     "points": 15,
     "schema_version": 3,
     "solution": false,
     "task": false
    }
   },
   "outputs": [],
   "source": [
    "assert isinstance(asset_weight, int)\n",
    "assert all([float(i).is_integer() for i in arrow_weights])"
   ]
  },
  {
   "cell_type": "markdown",
   "metadata": {
    "deletable": false,
    "editable": false,
    "nbgrader": {
     "cell_type": "markdown",
     "checksum": "c7733797157351d905036235117dbf27",
     "grade": false,
     "grade_id": "cell-be53f5093416845d",
     "locked": true,
     "schema_version": 3,
     "solution": false,
     "task": false
    }
   },
   "source": [
    "d) We now add a European put option on the financial asset with a strike of \\\\$85 to this 2 period finite state world. How much should this option cost based on the arbitrage free price for x that you have found from b)? \n",
    "\n",
    "(15 marks)\n",
    "\n",
    "Run the cell below where all 5 states for the assert price have been assigned to a numpy array and the put strike to a variable. In the following cell, assign the correct value to the variable **px**. The value must be at least accurate to 4 significant figures.\n",
    "\n",
    "You can use the [numpy.maximum](https://numpy.org/doc/stable/reference/generated/numpy.maximum.html) function in your solution."
   ]
  },
  {
   "cell_type": "code",
   "execution_count": 10,
   "metadata": {
    "deletable": false,
    "editable": false,
    "nbgrader": {
     "cell_type": "code",
     "checksum": "63e2434619848fe9070f637c435dbced",
     "grade": false,
     "grade_id": "cell-1c5a9a7284ab068d",
     "locked": true,
     "schema_version": 3,
     "solution": false,
     "task": false
    }
   },
   "outputs": [],
   "source": [
    "states = np.array([50, 75, 100, 125, x])\n",
    "strike = 85."
   ]
  },
  {
   "cell_type": "code",
   "execution_count": 11,
   "metadata": {
    "deletable": false,
    "nbgrader": {
     "cell_type": "code",
     "checksum": "15a1ae807a96fac007bb4bc8d0bcd471",
     "grade": false,
     "grade_id": "cell-fe29bb21cf46c585",
     "locked": false,
     "schema_version": 3,
     "solution": true,
     "task": false
    }
   },
   "outputs": [],
   "source": [
    "prob = arrows/np.sum(arrows)\n",
    "payout = strike - states\n",
    "\n",
    "# obtain the payout at the next time period\n",
    "# payout is >= 0 depending on the value of the derivative in the respective states\n",
    "get_payout = lambda p: max(p, 0)\n",
    "# get the new payout\n",
    "new_payout = np.array([get_payout(i) for i in payout])\n",
    "# get the expected payout by multiplying the payout with their respective probabilities\n",
    "expected_payout = sum(prob*new_payout)\n",
    "# expected_payout = 3.4210526315789473\n",
    "px = expected_payout*math.exp(-rate) # ADD CODE HERE\n",
    "# px = 3.245653484266759\n",
    "# can also just take new_payout * arrows cos the pv is already inside the arrows state"
   ]
  },
  {
   "cell_type": "code",
   "execution_count": 12,
   "metadata": {
    "deletable": false,
    "editable": false,
    "nbgrader": {
     "cell_type": "code",
     "checksum": "7f867850a8a8a2689a2d5445725692ac",
     "grade": true,
     "grade_id": "cell-946a0ce154cf32c6",
     "locked": true,
     "points": 15,
     "schema_version": 3,
     "solution": false,
     "task": false
    }
   },
   "outputs": [],
   "source": [
    "assert isinstance(px, float)\n",
    "assert px > 0"
   ]
  },
  {
   "cell_type": "markdown",
   "metadata": {
    "deletable": false,
    "editable": false,
    "nbgrader": {
     "cell_type": "markdown",
     "checksum": "9b25a2c8b01134d034d7f83d4b8ddee6",
     "grade": false,
     "grade_id": "cell-3794b4147a957159",
     "locked": true,
     "schema_version": 3,
     "solution": false,
     "task": false
    }
   },
   "source": [
    "### Question 2: Solving for Implied Volatility\n",
    "\n",
    "The optimizer in scipy also has an implementation for [Halley’s method](https://en.wikipedia.org/wiki/Halley%27s_method) which has a higher rate of convergence then Newton-Raphson. You will implement this method yourself in this assignment. The method requires both the first (vega) and second (vomma/volga) derivative with respect to volatility given below:\n",
    "\n",
    "Vega: $\\frac{\\partial V}{\\partial \\sigma}=SN'(d_1)\\sqrt{T}$\n",
    "\n",
    "Vomma/Volga: $\\frac{\\partial^2 V}{\\partial \\sigma^2}=SN'(\\frac{d_1d_2}{\\sigma})\\sqrt{T}$\n",
    "\n",
    "where $V$ is the price function of the derivative, $S$ is stock price, $N'(x)=\\frac{1}{\\sqrt{2\\pi}} e^{-x^2/2}$ which is the pdf of the standard Normal distribution, $T$ is time to maturity and $d_1=\\frac{1}{\\sigma\\sqrt{T}}\\left[\\ln\\left(\\frac{S}{K}\\right) + \\left(r + \\frac{\\sigma^2}{2}\\right)T\\right]$, $d_2=d_1 - \\sigma\\sqrt{T}$ are the same as in the standard Black Scholes formulation.\n",
    "\n",
    "For the iterations, use the alternative formulation given below:\n",
    "$$\n",
    "x_{n+1}=x_n-\\frac{f(x_n)}{f'(x_n)}\\left[1-\\frac{f(x_n)f''(x_n)}{2f'(x_n)^2}\\right]\n",
    "$$\n",
    "\n",
    "First, import the packages in the first cell below. Then complete the code in the following cell for the two functions defined below:  \n",
    "\n",
    "**px_vega_vomma** is a function that takes in all the parameters to price an European call or put option and a boolean argument otype which is set to True (default) for a call and False for a put. You are to add the missing code to calculate vega and vomma in the function.  \n",
    "\n",
    "**halley** is a function that takes in 4 arguments:\n",
    "1. **f** is the mathematical function (provided below) which we need to solve for the roots and is also used to calculate the derivatives vega and vomma \n",
    "2. **guess** is the initial guess for the solution\n",
    "3. **args** is the additional arguments required for the function f\n",
    "4. **tol**=10e-6 by default defines the required precision for the solution  \n",
    "\n",
    "Add the missing code to implement the function as an generator using the **yield** statement. The function will first check the value of f based on the provided guess. If the guess is within the tolerance for the solution then the function ends with no further action. If the guess is not within the tolerance, then further iterations are required. The function should **yield** the iterated guesses that approach the solution. \n",
    "\n",
    "(30 marks)\n",
    "\n",
    "If you are new to the use of **yield** statements, read [this](https://www.geeksforgeeks.org/use-yield-keyword-instead-return-keyword-python/) to learn more."
   ]
  },
  {
   "cell_type": "code",
   "execution_count": 13,
   "metadata": {
    "deletable": false,
    "nbgrader": {
     "cell_type": "code",
     "checksum": "486eb1f5f881acbc4778539aa9d2e86f",
     "grade": false,
     "grade_id": "cell-a28640d1a192c879",
     "locked": false,
     "schema_version": 3,
     "solution": true,
     "task": false
    }
   },
   "outputs": [],
   "source": [
    "import math\n",
    "import numpy as np\n",
    "from scipy.stats import norm\n",
    "import matplotlib.pyplot as plt\n",
    "\n",
    "def px_vega_vomma(sigma, S, K, T, r, otype=True):\n",
    "    d1 = (math.log(S / K) + (r + 0.5 * sigma ** 2) * T) / (sigma * math.sqrt(T))\n",
    "    d2 = (math.log(S / K) + (r - 0.5 * sigma ** 2) * T) / (sigma * math.sqrt(T))\n",
    "    \n",
    "    # if optype==True then compute call option value else compute put option value\n",
    "    if otype:\n",
    "        px = S*norm.cdf(d1) - K*math.exp(-r*T)*norm.cdf(d2)\n",
    "    else:\n",
    "        px = K*math.exp(-r*T)*norm.cdf(-d2) - S*norm.cdf(-d1) \n",
    "    \n",
    "    vega = S*norm.pdf(d1)*T**0.5 # ADD CODE HERE\n",
    "    vomma = S*norm.pdf(d1*d2/sigma)*T**0.5 # ADD CODE HERE\n",
    "    \n",
    "    return px, vega, vomma\n",
    "\n",
    "def halley(f, guess, args, tol=10**-6):\n",
    "    f_guess, vega, vomma = f(guess, *args)                  # evaluate f based on guess and calculate vega, vomma\n",
    "    if(abs(f_guess) > tol):                                 # check if f(guess) is within tolerance\n",
    "        yield guess\n",
    "        next_guess = guess - f_guess/vega*(1 - f_guess*vomma/2/vega**2)\n",
    "        yield from halley(f, next_guess, args, tol)\n",
    "        # ADD CODE HERE\n",
    "        # ~3 lines of code\n",
    "        # solution below:\n",
    "#         next_guess = guess - f_guess/vega*(1 - f_guess*vomma/2/vega**2)\n",
    "#         yield next_guess\n",
    "#         yield from halley(f, next_guess, args, tol)"
   ]
  },
  {
   "cell_type": "code",
   "execution_count": 14,
   "metadata": {
    "deletable": false,
    "editable": false,
    "nbgrader": {
     "cell_type": "code",
     "checksum": "6b8e6ee8b681ebf3f21d11a7f2e8dea8",
     "grade": true,
     "grade_id": "cell-b17328197e1b1feb",
     "locked": true,
     "points": 30,
     "schema_version": 3,
     "solution": false,
     "task": false
    }
   },
   "outputs": [
    {
     "name": "stdout",
     "output_type": "stream",
     "text": [
      "Iteration: 1 -> sigma = 0.5479007706526913\n",
      "Iteration: 2 -> sigma = 0.31200176896955806\n",
      "Iteration: 3 -> sigma = 0.27642414887401934\n",
      "Iteration: 4 -> sigma = 0.2757856982337853\n",
      "Iteration: 5 -> sigma = 0.2757854994003765\n"
     ]
    }
   ],
   "source": [
    "def f(x, S, r, K, T, listed_px, otype=True):\n",
    "    px, vega, vomma = px_vega_vomma(x, S, K, T, r, otype)\n",
    "    return (px - listed_px), vega, vomma\n",
    "\n",
    "S = 100.; K = 100.; T = 0.5; r = 0.01; listed_px = 8.; otype = True\n",
    "\n",
    "guess = 1\n",
    "x_generator = halley(f, guess, args=(S, r, K, T, listed_px, otype))\n",
    "count = 0\n",
    "for x in x_generator:\n",
    "    count += 1\n",
    "    print('Iteration:', count, '-> sigma =', x)\n",
    "\n",
    "assert x > 0.27578\n",
    "assert x < 0.27579"
   ]
  },
  {
   "cell_type": "markdown",
   "metadata": {
    "deletable": false,
    "editable": false,
    "nbgrader": {
     "cell_type": "markdown",
     "checksum": "4d3db480e3bb4ffd890beedfc38961d1",
     "grade": false,
     "grade_id": "cell-e06546d2a22621e8",
     "locked": true,
     "schema_version": 3,
     "solution": false,
     "task": false
    }
   },
   "source": [
    "The cell below tries using **guess = 5** as the initial value for the algorithm. Run it and see what happens.\n",
    "\n",
    "Why does the solution fail to converge? Run the cell further below to plot the graph of the function **f** and provide an analysis of why the convergence failed in the last markdown cell below. You can use this [visualizer](https://observablehq.com/@herbps10/halleys-method) to understand what Halley's method does geometrically. It is similar to the Newton-Raphson method except, instead of using a straight line tangent to find the next iteration, it uses the second derivative to add convexity (curvature) to the tangent.   \n",
    "\n",
    "(20 marks)"
   ]
  },
  {
   "cell_type": "code",
   "execution_count": 15,
   "metadata": {
    "deletable": false,
    "editable": false,
    "nbgrader": {
     "cell_type": "code",
     "checksum": "1f562233ac2e620f9ab0758e7fe7193c",
     "grade": false,
     "grade_id": "cell-29c26222828b409c",
     "locked": true,
     "schema_version": 3,
     "solution": false,
     "task": false
    }
   },
   "outputs": [
    {
     "name": "stdout",
     "output_type": "stream",
     "text": [
      "Iteration: 1 -> sigma = 392.6091960159699\n",
      "Iteration: 2 -> sigma = nan\n"
     ]
    },
    {
     "name": "stderr",
     "output_type": "stream",
     "text": [
      "C:\\Users\\eugen\\Anaconda3\\lib\\site-packages\\ipykernel_launcher.py:25: RuntimeWarning: divide by zero encountered in double_scalars\n",
      "C:\\Users\\eugen\\Anaconda3\\lib\\site-packages\\ipykernel_launcher.py:25: RuntimeWarning: invalid value encountered in double_scalars\n",
      "C:\\Users\\eugen\\Anaconda3\\lib\\site-packages\\scipy\\stats\\_distn_infrastructure.py:901: RuntimeWarning: invalid value encountered in greater\n",
      "  return (a < x) & (x < b)\n",
      "C:\\Users\\eugen\\Anaconda3\\lib\\site-packages\\scipy\\stats\\_distn_infrastructure.py:901: RuntimeWarning: invalid value encountered in less\n",
      "  return (a < x) & (x < b)\n",
      "C:\\Users\\eugen\\Anaconda3\\lib\\site-packages\\scipy\\stats\\_distn_infrastructure.py:1807: RuntimeWarning: invalid value encountered in greater_equal\n",
      "  cond2 = (x >= _b) & cond0\n",
      "C:\\Users\\eugen\\Anaconda3\\lib\\site-packages\\scipy\\stats\\_distn_infrastructure.py:897: RuntimeWarning: invalid value encountered in greater_equal\n",
      "  return (a <= x) & (x <= b)\n",
      "C:\\Users\\eugen\\Anaconda3\\lib\\site-packages\\scipy\\stats\\_distn_infrastructure.py:897: RuntimeWarning: invalid value encountered in less_equal\n",
      "  return (a <= x) & (x <= b)\n"
     ]
    }
   ],
   "source": [
    "guess = 5\n",
    "x_generator = halley(f, guess, args=(S, r, K, T, listed_px, otype))\n",
    "count = 0\n",
    "for x in x_generator:\n",
    "    count += 1\n",
    "    print('Iteration:', count, '-> sigma =', x)"
   ]
  },
  {
   "cell_type": "code",
   "execution_count": 32,
   "metadata": {
    "deletable": false,
    "editable": false,
    "nbgrader": {
     "cell_type": "code",
     "checksum": "3b75e92d23c21c0b2ba51200bb3baedc",
     "grade": false,
     "grade_id": "cell-7bf4707571597a74",
     "locked": true,
     "schema_version": 3,
     "solution": false,
     "task": false
    }
   },
   "outputs": [
    {
     "data": {
      "text/plain": [
       "<matplotlib.lines.Line2D at 0x1ba0baa5888>"
      ]
     },
     "execution_count": 32,
     "metadata": {},
     "output_type": "execute_result"
    },
    {
     "data": {
      "image/png": "[encoded data removed]",
      "text/plain": [
       "<Figure size 1152x864 with 1 Axes>"
      ]
     },
     "metadata": {
      "needs_background": "light"
     },
     "output_type": "display_data"
    }
   ],
   "source": [
    "S0 = 100.; K = 100.; T = 0.5; r = 0.01; listed_px = 8.; otype = True\n",
    "\n",
    "x = np.linspace(-10, 10, 5000)\n",
    "call_px, _, _ = px_vega_vomma(x, S0, K, T, r, True)\n",
    "call = call_px - listed_px\n",
    "\n",
    "plt.figure(1, figsize=(16, 12))\n",
    "plt.plot(x, call)\n",
    "plt.axhline(y=0, color='black', ls='--', lw=0.5)\n",
    "plt.axvline(x=0, color='black', ls='--', lw=0.5)"
   ]
  },
  {
   "cell_type": "markdown",
   "metadata": {
    "deletable": false,
    "nbgrader": {
     "cell_type": "markdown",
     "checksum": "c87f662481b353764a1dcd8cd10aa6cd",
     "grade": true,
     "grade_id": "cell-9e8e6add4c38f75d",
     "locked": false,
     "points": 20,
     "schema_version": 3,
     "solution": true,
     "task": false
    }
   },
   "source": [
    "YOUR ANSWER HERE\n",
    "\n",
    "As seen from the graph above, f(x) starts to approach an asymptote around x=5. It also has a point of inflection around x=1\n",
    " \n",
    "It may be that the derivative f'(x=5)$\\approx$0 such that squaring this value results in an even smaller value. This results in an error in Halley's method as it does not obey the formulation based on Taylor's Theorem. As seen in the iterative formula used above, it may have resulted in a division of 0 resulting in the error. \n",
    "\n",
    "This divergence can be also observed in the formula:\n",
    "$$\n",
    "x_{n+1}=x_n-\\frac{f(x_n)}{f'(x_n)}\\left[1-\\frac{f(x_n)f''(x_n)}{2f'(x_n)^2}\\right]\n",
    "$$\n",
    "\n",
    "It can be observed from the shape of the graph that f(x=5)$\\approx$80, f'(x=5)$\\approx$0 and f''(x=5)<0 such that $\\left[1-\\frac{f(x_n)f''(x_n)}{2f'(x_n)^2}\\right]\\approx$ very large positive number and $x_{n+1}\\approx$ very large negative number\n",
    "\n",
    "Repeated iterations results in oscillations between larger and larger positive and negative values which are further and further away from the root causing the divergence "
   ]
  },
  {
   "cell_type": "code",
   "execution_count": null,
   "metadata": {},
   "outputs": [],
   "source": []
  },
  {
   "cell_type": "code",
   "execution_count": null,
   "metadata": {},
   "outputs": [],
   "source": []
  }
 ],
 "metadata": {
  "kernelspec": {
   "display_name": "Python 3",
   "language": "python",
   "name": "python3"
  },
  "language_info": {
   "codemirror_mode": {
    "name": "ipython",
    "version": 3
   },
   "file_extension": ".py",
   "mimetype": "text/x-python",
   "name": "python",
   "nbconvert_exporter": "python",
   "pygments_lexer": "ipython3",
   "version": "3.7.4"
  }
 },
 "nbformat": 4,
 "nbformat_minor": 5
}
