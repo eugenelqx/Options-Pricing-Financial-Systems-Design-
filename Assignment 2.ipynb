{
 "cells": [
  {
   "cell_type": "markdown",
   "metadata": {
    "deletable": false,
    "editable": false,
    "nbgrader": {
     "cell_type": "markdown",
     "checksum": "f3bd2398b0ef8f3b22cb6b48a7293996",
     "grade": false,
     "grade_id": "cell-28aa03820a9e2af7",
     "locked": true,
     "schema_version": 3,
     "solution": false,
     "task": false
    }
   },
   "source": [
    "# ESD 40.317 Financial Systems Design \n",
    "## Part 2 Assignment 2\n",
    "### Due: 19 July before midnight \n",
    "\n",
    "Do not change any of the function definitions or variable names that are given in the cells for you to provide the solution. These function and variable names are used to autograde your solution and changing them might cause the autograder to fail and hence award 0 marks."
   ]
  },
  {
   "cell_type": "markdown",
   "metadata": {
    "deletable": false,
    "editable": false,
    "nbgrader": {
     "cell_type": "markdown",
     "checksum": "01cb04104146b49be7393cfb28245596",
     "grade": false,
     "grade_id": "cell-3852d80e61e72c0f",
     "locked": true,
     "schema_version": 3,
     "solution": false,
     "task": false
    }
   },
   "source": [
    "### Question 1: Method of Undetermined Coefficients\n",
    "\n",
    "Using the method of undetermined coefficients, show the following: \n",
    "\n",
    "$$\n",
    "f'''(x)\\approx \\frac{1}{h^3}[af(x+2h)+bf(x+h)+cf(x)+df(x-h)+ef(x-2h)]\n",
    "$$\n",
    "\n",
    "where $a=\\frac{1}{2}, b=-1, c=0, d=1, e=-\\frac{1}{2}$    \n",
    "\n",
    "(20 marks)\n",
    "\n",
    "Hint: expand the Taylor's series of the f(x+ih) terms around the point x to the forth derivative i.e. $f''''(x)$"
   ]
  },
  {
   "cell_type": "markdown",
   "metadata": {
    "deletable": false,
    "nbgrader": {
     "cell_type": "markdown",
     "checksum": "06d62264ac52ddc333ef5f67e2d35579",
     "grade": true,
     "grade_id": "cell-1a256de08b31c503",
     "locked": false,
     "points": 20,
     "schema_version": 3,
     "solution": true,
     "task": false
    }
   },
   "source": [
    "YOUR ANSWER HERE\n",
    "\n",
    "First, we sub in the coefficients for a, b, c, d, and e and obtain the following:\n",
    "$$\n",
    "f'''(x)\\approx \\frac{1}{h^3}[\\frac{1}{2}f(x+2h)-f(x+h)+f(x-h)-\\frac{1}{2}f(x-2h)]\n",
    "$$\n",
    "\n",
    "Next, applying Taylor's Theorem, we expand $\\frac{1}{2}f(x+2h)-f(x+h)+f(x-h)-\\frac{1}{2}f(x-2h)$ to the fourth derivative to obtain the following:\n",
    "$$\n",
    "\\frac{1}{2}f(x+2h) = \\frac{1}{2}[f(x) + 2hf'(x) + \\frac{4h^2}{2}f''(x) + \\frac{8h^3}{6}f'''(x) + \\frac{16h^4}{24}f''''(x) + ...]\n",
    "$$\n",
    "$$\n",
    "-f(x+h) = -[f(x) + hf'(x) + \\frac{h^2}{2}f''(x) + \\frac{h^3}{6}f'''(x) + \\frac{h^4}{24}f''''(x) + ... ]\n",
    "$$\n",
    "$$\n",
    "f(x-h) = [f(x) - hf'(x) + \\frac{h^2}{2}f''(x) - \\frac{h^3}{6}f'''(x) + \\frac{h^4}{24}f''''(x) - ... ]\n",
    "$$\n",
    "$$\n",
    "-\\frac{1}{2}f(x-2h) = -\\frac{1}{2}[f(x) - 2hf'(x) + \\frac{4h^2}{2}f''(x) - \\frac{8h^3}{6}f'''(x) + \\frac{16h^4}{24}f''''(x) - ...]\n",
    "$$\n",
    "\n",
    "Summing the 4 expressions above, we obtain the following: \n",
    "$$\n",
    "\\frac{1}{2}f(x+2h)-f(x+h)+f(x-h)-\\frac{1}{2}f(x-2h) \\approx h^3f'''(x)\n",
    "$$\n",
    "\n",
    "Therefore, $$\\frac{1}{h^3}[\\frac{1}{2}f(x+2h)-f(x+h)+f(x-h)-\\frac{1}{2}f(x-2h)] \\approx f'''(x) $$\n",
    "(shown)"
   ]
  },
  {
   "cell_type": "markdown",
   "metadata": {
    "deletable": false,
    "editable": false,
    "nbgrader": {
     "cell_type": "markdown",
     "checksum": "e319139ef0a0aa016fe65c06fd053df7",
     "grade": false,
     "grade_id": "cell-84acb2ec7e3e10b8",
     "locked": true,
     "schema_version": 3,
     "solution": false,
     "task": false
    }
   },
   "source": [
    "We will try to determine the order of accuracy of this differencing scheme by finding the errors for the function $f(x)=xe^{x}$. Implement the following:\n",
    "1. Fill in the code for the function **f(x)** which calculates the value of $f(x)$.\n",
    "2. Fill in the code for the function **central_diff(x)** which approximates the value of the $f'''(x)$ using the differencing scheme you have derived above.\n",
    "3. Calculate the actual value of the $f'''(0.5)$ using the following formula a:$f'''(x)=(x+3)e^x$\n",
    "4. Using the value calculated in 3), find the error of the approximated value using **central_diff** at $x=0.5$ for $h=0.1$, $0.01$ and $0.001$ and assigning the values to **error1**, **error2** and **error3** respectively. The error should be calculated as central_diff(0.5) - $f'''(0.5)$.\n",
    "5. Finally, calculate the ratio of the error between $h=0.1$ and $0.01$ (i.e. $\\frac{error1}{error2}$) and assigning it to **ratio1** and also the ratio between $0.01$ and $0.001$ assigning it to **ratio2**\n",
    "\n",
    "(10 marks)"
   ]
  },
  {
   "cell_type": "code",
   "execution_count": 3,
   "metadata": {
    "deletable": false,
    "nbgrader": {
     "cell_type": "code",
     "checksum": "d820b336637ad52b0e31a32a0a278e4b",
     "grade": false,
     "grade_id": "cell-0fdf82b0055959f7",
     "locked": false,
     "schema_version": 3,
     "solution": true,
     "task": false
    }
   },
   "outputs": [],
   "source": [
    "import math\n",
    "\n",
    "def f(x):\n",
    "    return x*math.exp(x)# ADD CODE HERE\n",
    "\n",
    "def central_diff(f, x, h):\n",
    "    return 1/(h**3)*(0.5*f(x+2*h)-f(x+h)+f(x-h)-0.5*f(x-2*h))# ADD CODE HERE\n",
    "\n",
    "x = 0.5\n",
    "actual_value = (x+3)*math.exp(x) # ADD CODE HERE\n",
    "error1 = central_diff(f, x, 0.1) - actual_value # ADD CODE HERE\n",
    "error2 = central_diff(f, x, 0.01) - actual_value # ADD CODE HERE\n",
    "error3 = central_diff(f, x, 0.001) - actual_value # ADD CODE HERE\n",
    "ratio1 = error1/error2 # ADD CODE HERE\n",
    "ratio2 = error2/error3 # ADD CODE HERE\n",
    "# print(error1)\n",
    "# print(error2)\n",
    "# print(error3)\n",
    "# print(\"ratio1 is: \", ratio1)\n",
    "# print('ratio2 is: ', ratio2)\n",
    "# print(round(ratio1, -2))\n",
    "# print(round(ratio2, -2))"
   ]
  },
  {
   "cell_type": "code",
   "execution_count": 4,
   "metadata": {
    "deletable": false,
    "editable": false,
    "nbgrader": {
     "cell_type": "code",
     "checksum": "e7b5e0a90040afac777632cc0a38fe8e",
     "grade": true,
     "grade_id": "cell-c706ef643baa40da",
     "locked": true,
     "points": 10,
     "schema_version": 3,
     "solution": false,
     "task": false
    }
   },
   "outputs": [],
   "source": [
    "assert math.fabs(error1 - 0.0227) < 5e-5\n",
    "assert math.fabs(error2 - 0.0002267) < 5e-8\n",
    "assert math.fabs(error3 - 2.2755e-06) < 5e-10\n",
    "assert round(ratio1, -2) == 100\n",
    "assert round(ratio2, -2) == 100"
   ]
  },
  {
   "cell_type": "markdown",
   "metadata": {
    "deletable": false,
    "editable": false,
    "nbgrader": {
     "cell_type": "markdown",
     "checksum": "6885a42befdf42dbb919cd14ad0b1990",
     "grade": false,
     "grade_id": "cell-3c93cc66b8fc8c32",
     "locked": true,
     "schema_version": 3,
     "solution": false,
     "task": false
    }
   },
   "source": [
    "### Question 2: Solving ODE using Runge Kutta 2 with Richardson Extrapolation\n",
    "\n",
    "Given the derivative function $y'(t)=e^t+y$ and $y(0)=0$, find the value of $\\hat{y}(2)$ using $\\Delta t=0.2, 0.1, 0.05$ with Runge Kutta 2:\n",
    "\n",
    "$$\n",
    "k_1=\\Delta tf(t,\\hat{y}_t) \\\\\n",
    "k_2=\\Delta tf(t+\\Delta t,\\hat{y}_t+k_1) \\\\\n",
    "\\hat{y}_{t+\\Delta t}=\\hat{y}_t+\\frac{1}{2}(k_1+k_2) \\\\\n",
    "$$\n",
    "\n",
    "Apply Richardson Extrapolation to obtain a better approximation for $\\hat{y}(2)$ using the values $\\hat{y}_{\\Delta t=0.2}(2)$ and $\\hat{y}_{\\Delta t=0.1}(2)$ i.e. the values approximated for $y(2)$ using RK2 with $\\Delta t=0.2, 0.1$. \n",
    "\n",
    "Using $y(t)=te^t$ as the exact solution, find the **absolute** errors of the approximation obtained for $y(2)$ and store them in the dictionary variable **errors**. The key for the error will be the value of $\\Delta t$ e.g. **errors\\[0.2\\]** should give the value of $|y(2)-\\hat{y}_{\\Delta t=0.2}(2)|$. For the Richardson Extrapolation absolute error, store in the dictionary with the key 'RE' i.e. **errors\\['RE'\\]** should return the absolute error for the Richardson extrapolation approximation.\n",
    "\n",
    "Complete the code for the following function defintions provided in the cells below then use the functions to compute the required values. The function definitions are explained below:\n",
    "1. **yprime(t, y)** is used to calculate the derivative $y'(t)$ given t and y\n",
    "2. **y(t)** is used to calculate the exact values of the function $y(t)$\n",
    "3. **rk2(f, ts, Δt, t_min, y_t_min)** takes in the following arguments and outputs a numpy array containing the approximated values $\\hat{y}(t)$ from $t=0$ to $t=2$ based on step size of $\\Delta t$:\n",
    "    1. **f** is a function that calculates the derivative fiven t and y\n",
    "    2. **ts** is a numpy array that provides all the points on t axis from $t=0$ to $t=2$ given $\\Delta t$\n",
    "    3. **Δt** is the size of the interval\n",
    "    4. **t_min** is the starting point on the t axis i.e. 0\n",
    "    5. **y_t_min** is the value of $y(t)$ at the starting point i.e. initial condition\n",
    "\n",
    "(30 marks)\n",
    "\n",
    "Hint: Runge Kutta 2 is of 2nd order accuracy so $n=2$ in the combined equation of the two approximations as seen in the lecture slides:     \n",
    "\n",
    "$$\n",
    "\\hat{G}=\\frac{(\\frac{h_1}{h_2})^{n}g(h_2)-g(h_1)}{(\\frac{h_1}{h_2})^{n}-1}\n",
    "$$"
   ]
  },
  {
   "cell_type": "code",
   "execution_count": 3,
   "metadata": {
    "deletable": false,
    "nbgrader": {
     "cell_type": "code",
     "checksum": "7ab5c488f53c15c8bb950ddee8969dc0",
     "grade": false,
     "grade_id": "cell-f899b3dfc1890f0f",
     "locked": false,
     "schema_version": 3,
     "solution": true,
     "task": false
    }
   },
   "outputs": [
    {
     "name": "stdout",
     "output_type": "stream",
     "text": [
      "{0.2: 0.20495430829568306, 0.1: 0.056213396126773674, 0.05: 0.014712088061791917, 'RE': 0.00663309207046936}\n"
     ]
    }
   ],
   "source": [
    "import math\n",
    "import numpy as np\n",
    "\n",
    "def yprime(t, y):\n",
    "    return np.exp(t) + y # ADD CODE HERE\n",
    "\n",
    "def y(t):\n",
    "    return t*np.exp(t) # ADD CODE HERE\n",
    "\n",
    "def rk2(f, ts, Δt, t_min, y_t_min):\n",
    "    Nt = len(ts) # obtains the number of points \n",
    "    ys = np.zeros(Nt) # initialise an array of 0s to store the output\n",
    "    ys[0] = y_t_min # set the min y value\n",
    "    for i in range(1, Nt):\n",
    "        k1 = Δt * f(ts[i-1], ys[i-1])\n",
    "        k2 = Δt * f(ts[i], ys[i-1]+k1)\n",
    "        ys[i] = ys[i-1] + 0.5 * (k1+k2)\n",
    "    return ys\n",
    "\n",
    "t_min = 0.; t_max = 2.; y_t_min = 0\n",
    "\n",
    "y_t_max = y(t_max)  # exact value of y(2)\n",
    "errors = {}         # dictionary to store the errors\n",
    "ys_rk2 = {} # create a dictionary to store the ys values for richardson extrapolation\n",
    "ts_rk2 = {} # create a dictionary to store the x values for each step\n",
    "\n",
    "for Δt in [0.2, 0.1, 0.05]:\n",
    "    ts = np.linspace(t_min, t_max, int((t_max - t_min) / Δt) + 1)\n",
    "    ys = rk2(yprime, ts, Δt, t_min, y_t_min) \n",
    "    ts_rk2[Δt] = ts\n",
    "    ys_rk2[Δt] = ys\n",
    "    y_exact = y(ts)\n",
    "    errors[Δt] = abs(y_exact[-1] - ys[-1])\n",
    "    \n",
    "y_RE = (2**2*ys_rk2[0.1][::2] - ys_rk2[0.2])/(2**2-1)\n",
    "errors['RE'] = abs(y(2) - y_RE[-1])\n",
    "print(errors)\n",
    "# if errors[0.1] - 0.0562135 < 5e-7:\n",
    "#     print('pass test')\n",
    "#     print(errors[0.1] - 0.0562135)"
   ]
  },
  {
   "cell_type": "code",
   "execution_count": 4,
   "metadata": {
    "deletable": false,
    "editable": false,
    "nbgrader": {
     "cell_type": "code",
     "checksum": "28bdfbd73b7cf3ac348b6eb9b05f76db",
     "grade": true,
     "grade_id": "cell-74951fafae1897a9",
     "locked": true,
     "points": 10,
     "schema_version": 3,
     "solution": false,
     "task": false
    }
   },
   "outputs": [],
   "source": [
    "assert math.fabs(errors[0.2] - 0.20495) < 5e-5\n",
    "assert math.fabs(errors[0.1] - 0.0562135) < 5e-7\n",
    "assert math.fabs(errors[0.05] - 0.0147120) < 5e-7"
   ]
  },
  {
   "cell_type": "code",
   "execution_count": 5,
   "metadata": {
    "deletable": false,
    "editable": false,
    "nbgrader": {
     "cell_type": "code",
     "checksum": "4ac837855f3f9caff8216948bb109a62",
     "grade": true,
     "grade_id": "cell-b82893027c28ff1d",
     "locked": true,
     "points": 20,
     "schema_version": 3,
     "solution": false,
     "task": false
    }
   },
   "outputs": [],
   "source": [
    "assert math.fabs(errors['RE'] - 0.0066330) < 5e-7"
   ]
  },
  {
   "attachments": {
    "image.png": {
     "image/png": "[encoded data removed]"
    }
   },
   "cell_type": "markdown",
   "metadata": {
    "deletable": false,
    "editable": false,
    "nbgrader": {
     "cell_type": "markdown",
     "checksum": "9e0be40b4473dc49113e6a4b3b988da4",
     "grade": false,
     "grade_id": "cell-b00f4ddfa66be5d4",
     "locked": true,
     "schema_version": 3,
     "solution": false,
     "task": false
    }
   },
   "source": [
    "### Question 3: Solving 2nd order linear ODEs\n",
    "\n",
    "Given the following 2nd order linear ODE boundary problem:\n",
    "\n",
    "$$\n",
    "-y(x)+3xy'(x)+2x^2y''(x)=0 \\\\\n",
    "y(1)+y'(1)=\\frac{3}{2} \\\\\n",
    "y(4)+y'(4)=\\frac{39}{16} \\\\\n",
    "$$\n",
    "\n",
    "Solve for $y(x)$ for $x$ in the interval \\[1, 4\\] with $\\Delta x=0.001$ using the scipy solver **spsolve**. Store the results in the variable **y_estd**. \n",
    "\n",
    "For the boundary conditions, you are to use a higher order forward/backward differencing scheme as shown below:\n",
    "1. First boundary condition with 2nd order forward differencing \n",
    "\n",
    "$$\n",
    "g_1y_0 + g_2\\frac{-y_2+4y_1-3y_0}{2\\Delta x}=g_0 \\\\\n",
    "(g_1-\\frac{3}{2\\Delta x}g_2)y_0+(\\frac{2}{\\Delta x}g_2)y_1-(\\frac{1}{2\\Delta x}g_2)y_2=g_0 \\\\\n",
    "$$\n",
    "\n",
    "2. Second boundary condition with 2nd order backward differencing   \n",
    "\n",
    "$$\n",
    "k_1y_n + k_2\\frac{3y_n-4y_{n-1}+y_{n-2}}{2\\Delta x}=k_0 \\\\\n",
    "(\\frac{1}{2\\Delta x}k_2)y_{n-2}-(\\frac{2}{\\Delta x}k_2)y_{n-1}+(k_1+\\frac{3}{2\\Delta x}k_2)y_n=k_0\n",
    "$$\n",
    "\n",
    "\n",
    "Complete the code for the following function definitions to perform this task:\n",
    "1. **gen_matrix** takes in the following arguments and returns a sparse matrix in [csr](https://docs.scipy.org/doc/scipy/reference/generated/scipy.sparse.csr_matrix.html) form:\n",
    "    1. xs is the a numpy array that contains all the points in the required interval based on $\\Delta x$\n",
    "    2. f1, f2, f3, g0, g1, g2, k0, k1, k2 are the functions and values corresponding to the general form of the 2nd order linear ODE as seen on the lecture slide shown below.\n",
    "2. **gen_solution** takes in the following arguments and returns a numpy array containing the approximated solution for x in the interval \\[a,b\\] with step size $\\Delta x$:\n",
    "    1. $\\Delta x$ is the step size\n",
    "    2. a, b, f0, f1, f2, f3, g0, g1, g2, k0, k1, k2 are the functions and values corresponding to the general form of the 2nd order linear ODE as seen on the lecture slide shown below.\n",
    "    \n",
    "Use the functions to compute **y_estd**.\n",
    "\n",
    "(40 marks)\n",
    "\n",
    "![image.png](attachment:image.png)"
   ]
  },
  {
   "cell_type": "code",
   "execution_count": 7,
   "metadata": {
    "deletable": false,
    "nbgrader": {
     "cell_type": "code",
     "checksum": "9b1c39e7d0006a05f5876552c3cbd93c",
     "grade": false,
     "grade_id": "cell-d6a4455e0b79fdfb",
     "locked": false,
     "schema_version": 3,
     "solution": true,
     "task": false
    }
   },
   "outputs": [],
   "source": [
    "from scipy.sparse import diags\n",
    "from scipy.sparse.linalg import spsolve\n",
    "import numpy as np\n",
    "\n",
    "def gen_matrix(xs, f1, f2, f3, g0, g1, g2, k0, k1, k2):\n",
    "    Δx = xs[1] - xs[0] \n",
    "    N = len(xs)     # N is the number of points which is number of intervals + 1 i.e. small n + 1\n",
    "    \n",
    "    # Set up matrix diagonals\n",
    "    # ADD CODE HERE\n",
    "    d0 = f1(xs) - 2.*f3(xs)/(Δx**2) # create first diag\n",
    "    d1 = f2(xs[:-1])/(2.*Δx) + f3(xs[:-1])/(Δx**2) # create first super diag and drop the last term \n",
    "    dm1 = -f2(xs[1:])/(2.*Δx) + f3(xs[1:])/(Δx**2) # create first sub diag and drop the first term \n",
    "    d2 = np.zeros((N-2))\n",
    "    dm2 = np.zeros((N-2))\n",
    "        \n",
    "    # First Boundary Condition\n",
    "    # ADD CODE HERE\n",
    "    d0[0] = g1 - 3.*g2/2./Δx\n",
    "    d1[0] = 2.*g2/Δx\n",
    "    d2[0] = -g2/2./Δx\n",
    "    \n",
    "    # Second Boundary Condition\n",
    "    # ADD CODE HERE\n",
    "    d0[-1] = k1 + 3.*k2/2./Δx  \n",
    "    dm1[-1] = -2.*k2/Δx\n",
    "    dm2[-1] = k2/2./Δx\n",
    "    \n",
    "    # Construct matrix\n",
    "    A = diags([dm2,dm1,d0,d1,d2], [-2,-1, 0, 1, 2], shape=(N,N), dtype=float)\n",
    "    A = A.tocsr() # Required format for spsolver\n",
    "\n",
    "    return A\n",
    "\n",
    "def gen_solution(Δx, a, b, f0, f1, f2, f3, g0, g1, g2, k0, k1, k2):    \n",
    "    N = int((b-a)/Δx) + 1\n",
    "    xs = np.linspace(a, b, N)\n",
    "    A = gen_matrix(xs, f1, f2, f3, g0, g1, g2, k0, k1, k2)\n",
    "    \n",
    "    # Construct the RHS of the equation Ay = z which we will solve for y\n",
    "    # ADD CODE HERE\n",
    "    z = f0(xs)\n",
    "#     print(type(z))\n",
    "    z[0] = g0\n",
    "    z[-1] = k0\n",
    "    \n",
    "    # Solve the equation Ay = z for y\n",
    "    # ADD CODE HERE\n",
    "    y = spsolve(A, z)\n",
    "    \n",
    "    return y \n",
    "\n",
    "def f0(x):\n",
    "    # ADD CODE HERE\n",
    "    return 0.*x # i do this so that this function returns an array instead of a float\n",
    "\n",
    "def f1(x):\n",
    "    # ADD CODE HERE\n",
    "    return -1.*x/x # i do this so that this function returns as array instead of a float\n",
    "\n",
    "def f2(x):\n",
    "    # ADD CODE HERE\n",
    "    return 3.*x\n",
    "\n",
    "def f3(x):\n",
    "    # ADD CODE HERE\n",
    "    return 2.*(x**2)\n",
    "\n",
    "# ADD CODE HERE\n",
    "a = 1.; b = 4. # x-axis boundary values\n",
    "g1 = 1.; g2 = 1.; g0 = 3/2\n",
    "k1 = 1.; k2 = 1.; k0 = 39/16\n",
    "Δx = 0.001\n",
    "y_estd = gen_solution(Δx, a, b, f0, f1, f2, f3, g0, g1, g2, k0, k1, k2)\n",
    "# print(len(y_estd))\n",
    "# print(np.abs(y_estd - y_exact(xs)))\n",
    "# print((np.abs(y_estd - y_exact(xs)) < 1e-4).all())"
   ]
  },
  {
   "cell_type": "code",
   "execution_count": 8,
   "metadata": {
    "deletable": false,
    "editable": false,
    "nbgrader": {
     "cell_type": "code",
     "checksum": "d491fab9650f0113ab96919a58449d56",
     "grade": true,
     "grade_id": "cell-a5329732d727f15d",
     "locked": true,
     "points": 30,
     "schema_version": 3,
     "solution": false,
     "task": false
    }
   },
   "outputs": [],
   "source": [
    "assert len(y_estd) == 3001"
   ]
  },
  {
   "cell_type": "code",
   "execution_count": 9,
   "metadata": {
    "deletable": false,
    "editable": false,
    "nbgrader": {
     "cell_type": "code",
     "checksum": "58606f2cdf8ca53ed596b80eaa821398",
     "grade": true,
     "grade_id": "cell-5e51da66d13a540a",
     "locked": true,
     "points": 10,
     "schema_version": 3,
     "solution": false,
     "task": false
    }
   },
   "outputs": [],
   "source": [
    "def y_exact(x):\n",
    "    return x**0.5 + 1/x\n",
    "xs = np.linspace(1, 4, 3001)\n",
    "\n",
    "assert (np.abs(y_estd - y_exact(xs)) < 1e-4).all()"
   ]
  },
  {
   "cell_type": "code",
   "execution_count": 11,
   "metadata": {},
   "outputs": [
    {
     "data": {
      "text/plain": [
       "[<matplotlib.lines.Line2D at 0x23fe7d8e388>,\n",
       " <matplotlib.lines.Line2D at 0x23fe8124348>]"
      ]
     },
     "execution_count": 11,
     "metadata": {},
     "output_type": "execute_result"
    }
   ],
   "source": [
    "import matplotlib.pyplot as plt\n",
    "x = np.linspace(a, b, 3001)\n",
    "plt.plot(x, y_estd, x, y_exact(x))"
   ]
  },
  {
   "cell_type": "code",
   "execution_count": null,
   "metadata": {},
   "outputs": [],
   "source": []
  }
 ],
 "metadata": {
  "kernelspec": {
   "display_name": "Python 3",
   "language": "python",
   "name": "python3"
  },
  "language_info": {
   "codemirror_mode": {
    "name": "ipython",
    "version": 3
   },
   "file_extension": ".py",
   "mimetype": "text/x-python",
   "name": "python",
   "nbconvert_exporter": "python",
   "pygments_lexer": "ipython3",
   "version": "3.7.4"
  }
 },
 "nbformat": 4,
 "nbformat_minor": 5
}
