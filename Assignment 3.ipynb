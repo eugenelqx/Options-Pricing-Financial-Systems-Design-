{
 "cells": [
  {
   "cell_type": "markdown",
   "metadata": {},
   "source": [
    "# ESD 40.317 Financial Systems Design \n",
    "## Part 2 Assignment 3\n",
    "\n",
    "Do not change any of the function definitions or variable names that are given in the cells for you to provide the solution. These function and variable names are used to autograde your solution and changing them might cause the autograder to fail and hence award 0 marks."
   ]
  },
  {
   "cell_type": "markdown",
   "metadata": {
    "deletable": false,
    "editable": false,
    "nbgrader": {
     "cell_type": "markdown",
     "checksum": "92981028d36b9c453546ab6bf873cbfd",
     "grade": false,
     "grade_id": "cell-745ad2746d99f534",
     "locked": true,
     "schema_version": 3,
     "solution": false,
     "task": false
    }
   },
   "source": [
    "Consider the Constant Elasticity of Variance (CEV) model for risk-neutral stock price evolution. It has the following Stochastic Differential Equation (SDE):\n",
    "$$dx=rxdt+\\sigma x^\\beta dW$$\n",
    "The Black Scholes equivalent PDE that arises based on this model is:\n",
    "$$\\frac{1}{2}\\sigma^2 x^{2\\beta}f_{xx}+rxf_x-rf+f_t=0$$\n",
    "After the $\\tau=T-t$ change of variables as shown in class, the PDE is:\n",
    "$$\\frac{1}{2}\\sigma^2 x^{2\\beta}f_{xx}+rxf_x-rf=f_\\tau$$\n",
    "\n",
    "In this assignment, you try to price a European KIKO call option with the following terms: \n",
    "1. Expiration in 0.5 years\n",
    "2. Strike price of \\\\$100\n",
    "3. Up and in knock-in barrier at \\\\$115 \n",
    "4. Up and out knock-out barrier at \\\\$140   \n",
    "\n",
    "The term 'KIKO' indicates the presence of both knock-in and knock-out barriers. The option is only activated if the barrier has been knocked-in meaning if the stock price reaches the knock-in barrier. If not, the option is not activated and will not pay out. The knock-out barrier works the opposite way where the option becomes worthless if the stock price reaches the knock-out barrier. The barrier monitoring style for this option is also European, meaning that the check for knocking-in and knocking-out is only performed once, at expiration. \n",
    "\n",
    "The other key inputs to the model are as follows:\n",
    "1. The current stock price, $x_0$ is \\\\$110\n",
    "2. Risk free rate, r is 2%\n",
    "3. Volatility, σ is 25%   \n",
    "\n",
    "We are interested to find the arbitrage free price of this option based on this model at the current stock price. There are 3 parts to this problem to derive this price using the different FDM techniques you have learned in class. Each part has the function definition required in the cell which will return V, the array corresponding to the option prices and xs, the array corresponding to the points in x representing the stock price. For each part, you are to store these two arrays in the defined variables e.g. for the 2nd part, the results are stored in V2, xs2. \n",
    "\n",
    "**These function and variable definitions will be used to assess the solution and will also be used in the final plot.** The arguments that the function uses are the same as in the in class exercises except for the additional barriers defined as KI and KO.\n",
    "\n",
    "Run the cell below to import the packages and define the inputs required."
   ]
  },
  {
   "cell_type": "code",
   "execution_count": 1,
   "metadata": {
    "deletable": false,
    "editable": false,
    "nbgrader": {
     "cell_type": "code",
     "checksum": "934397afbc83222d33419d22c79f017f",
     "grade": false,
     "grade_id": "cell-6a6e2b3b14654db6",
     "locked": true,
     "schema_version": 3,
     "solution": false,
     "task": false
    }
   },
   "outputs": [],
   "source": [
    "import math\n",
    "import numpy as np\n",
    "import matplotlib.pyplot as plt\n",
    "from scipy.sparse import diags\n",
    "from scipy.sparse.linalg import spsolve\n",
    "\n",
    "# Input parameters\n",
    "X0 = 110.     # initial stock price\n",
    "σ = 0.25      # volatility\n",
    "r = 0.02      # risk free rate\n",
    "K = 100       # strike price\n",
    "KI = 115      # knock in barrier\n",
    "KO = 125      # knock out barrier\n",
    "T = 0.5       # time to maturity\n",
    "β = 0.75      # beta for the CEV model\n",
    "m = 2         # multiplier for the strike price to define boundary of the x axis"
   ]
  },
  {
   "cell_type": "markdown",
   "metadata": {
    "deletable": false,
    "editable": false,
    "nbgrader": {
     "cell_type": "markdown",
     "checksum": "78a8ff5b1b1023b9954cc4acb1f8c966",
     "grade": false,
     "grade_id": "cell-228b9fd332264fa4",
     "locked": true,
     "schema_version": 3,
     "solution": false,
     "task": false
    }
   },
   "source": [
    "### a) Explicit FDM\n",
    "\n",
    "Solve the PDE with the initial boundary conditions using the Explicit FDM with the number of steps for the asset price as an input and determine the minimum number of time steps to maintain the stability condition within the algorithm. Experiment with **Nx** to see what is the lowest number required to get the option value at $x_0$ as a percentage of $x_0$ to be within 1 basis point (0.01%) of  4.01% i.e. $\\frac{option value}{110}\\approx 4.01\\% \\pm 0.01\\%$ by running the autograding cells. \n",
    "\n",
    "Note: In the industry, prices are typically quoted as a percentage of the notional where notional is the spot price times the number of options. This makes it convenient to quote a single price that can be used for different notional sizes rather than quoting a \\\\$ price that changes depending on the number of options.\n",
    "\n",
    "Hint: Nx will be a large number well in excess of 1000.\n",
    "\n",
    "(25 marks)"
   ]
  },
  {
   "cell_type": "code",
   "execution_count": 2,
   "metadata": {
    "deletable": false,
    "nbgrader": {
     "cell_type": "code",
     "checksum": "d83198eff11ce82fe61a15dc0d77b54d",
     "grade": false,
     "grade_id": "cell-b84a882f433e2c1f",
     "locked": false,
     "schema_version": 3,
     "solution": true,
     "task": false
    }
   },
   "outputs": [
    {
     "name": "stdout",
     "output_type": "stream",
     "text": [
      "5200\n",
      "test 1:  True\n",
      "test 2: True\n",
      "value:  9.879236697760835e-05\n",
      "test 3: pass\n"
     ]
    }
   ],
   "source": [
    "def Explicit_FDM_CEV(σ, r, K, KI, KO, T, Nx, β, m=2):\n",
    "    # ADD CODE HERE\n",
    "    xs = np.linspace(0, m*K, Nx+1) \n",
    "    Δx = xs[1]-xs[0]\n",
    "    # get the minimum value \n",
    "    Δt = 0.9/Nx**2/σ**2 # ADD CODE HERE    \n",
    "    Nt = int(T/Δt) # ensure that Nt is an integer for the time loop\n",
    "    \n",
    "    # initial condition of option\n",
    "    V = np.maximum(xs-K, 0)\n",
    "    KI_index = np.where(xs < KI)\n",
    "    KO_index = np.where(xs >= KO)\n",
    "    V[KI_index[0]] = 0\n",
    "    V[KO_index[0]] = 0\n",
    "    \n",
    "    # Set up matrix diagonals\n",
    "    d0 = 1 - σ**2 * np.power(xs,2*β)*Δt/Δx**2 - r*Δt\n",
    "    d1 = 0.5*(r*xs[0:-1]*Δt/Δx + σ**2 *np.power(xs[0:-1],2*β)*Δt/Δx**2) # ADD CODE HERE\n",
    "    dm1 = 0.5*(σ**2 * np.power(xs[1:],2*β)*Δt/Δx**2 - r*xs[1:]*Δt/Δx) # ADD CODE HERE \n",
    "    \n",
    "    # Boundary condition for small asset price\n",
    "    d0[0] = (1 - r * Δt) # ADD CODE HERE \n",
    "    d1[0] = 0 # ADD CODE HERE \n",
    "    \n",
    "    # Construct the matrix\n",
    "    A = diags([dm1,d0,d1], [-1, 0, 1], shape=(Nx+1,Nx+1), dtype=float)\n",
    "    \n",
    "    for t in range(Nt):\n",
    "        V = A.dot(V)\n",
    "        # Boundary condition for large asset price\n",
    "        # ADD CODE HERE\n",
    "        V[-1] = 2.*V[-2] - V[-3]\n",
    "    \n",
    "    \n",
    "    return V, xs\n",
    "\n",
    "# ADD CODE HERE\n",
    "Nx = 5200\n",
    "print(Nx)\n",
    "V1, xs1 = Explicit_FDM_CEV(σ, r, K, KI, KO, T, Nx, β, m)\n",
    "print(\"test 1: \", len(V1) == len(xs1))\n",
    "print(\"test 2:\", xs1[0] == 0)\n",
    "\n",
    "dx1 = xs1[1] - xs1[0]\n",
    "idx1 = X0 / dx1\n",
    "if idx1.is_integer():\n",
    "    if math.fabs(V1[int(idx1)] / X0 - 0.0401) < 1e-4:\n",
    "        print(\"value: \", math.fabs(V1[int(idx1)] / X0 - 0.0401))\n",
    "        print(\"test 3:\", \"pass\")\n",
    "    else:\n",
    "        print(\"test 3:\", \"fail\")\n",
    "else:\n",
    "    diff1 = V1[int(idx1) + 1] - V1[int(idx1)]\n",
    "    interpolation1 = V1[int(idx1)] + (idx1 - int(idx1)) * diff1\n",
    "    print(\"value: \", math.fabs(interpolation1 / X0 - 0.0401))\n",
    "    print(\"test 4: \", math.fabs(interpolation1 / X0 - 0.0401) < 1e-4)"
   ]
  },
  {
   "cell_type": "code",
   "execution_count": 3,
   "metadata": {
    "deletable": false,
    "editable": false,
    "nbgrader": {
     "cell_type": "code",
     "checksum": "71778bf061002db5d5eada9eff31b86a",
     "grade": true,
     "grade_id": "cell-33cd0826109ce8d2",
     "locked": true,
     "points": 5,
     "schema_version": 3,
     "solution": false,
     "task": false
    }
   },
   "outputs": [
    {
     "name": "stdout",
     "output_type": "stream",
     "text": [
      "Wall time: 16.3 s\n"
     ]
    }
   ],
   "source": [
    "%%time\n",
    "\n",
    "V1, xs1 = Explicit_FDM_CEV(σ, r, K, KI, KO, T, Nx, β, m)\n",
    "\n",
    "assert len(V1) == len(xs1)\n",
    "assert xs1[0] == 0"
   ]
  },
  {
   "cell_type": "code",
   "execution_count": 4,
   "metadata": {
    "deletable": false,
    "editable": false,
    "nbgrader": {
     "cell_type": "code",
     "checksum": "b5d718fb74bb8d042fb3c3354cc850b0",
     "grade": true,
     "grade_id": "cell-2b8676b00577c563",
     "locked": true,
     "points": 20,
     "schema_version": 3,
     "solution": false,
     "task": false
    }
   },
   "outputs": [
    {
     "name": "stdout",
     "output_type": "stream",
     "text": [
      "Option price as a percentage of spot at x0 = 110 is 4.01988%\n"
     ]
    }
   ],
   "source": [
    "dx1 = xs1[1] - xs1[0]\n",
    "idx1 = X0 / dx1\n",
    "\n",
    "if idx1.is_integer():\n",
    "    print('Option price as a percentage of spot at x0 = {0:.0f} is {1:.5%}'.format(X0, V1[int(idx1)] / X0))\n",
    "    assert math.fabs(V1[int(idx1)] / X0 - 0.0401) < 1e-4\n",
    "else:\n",
    "    diff1 = V1[int(idx1) + 1] - V1[int(idx1)]\n",
    "    interpolation1 = V1[int(idx1)] + (idx1 - int(idx1)) * diff1\n",
    "    print('Option price as a percentage of spot at x0 = {0:.0f} is {1:.5%}'.format(X0, interpolation1 / X0))\n",
    "    assert math.fabs(interpolation1 / X0 - 0.0401) < 1e-4"
   ]
  },
  {
   "cell_type": "markdown",
   "metadata": {
    "deletable": false,
    "editable": false,
    "nbgrader": {
     "cell_type": "markdown",
     "checksum": "c30e5581bd6a0f6e8279a0cc27e542cf",
     "grade": false,
     "grade_id": "cell-abb6851fdf00f9f9",
     "locked": true,
     "schema_version": 3,
     "solution": false,
     "task": false
    }
   },
   "source": [
    "### b) Crank Nicolson\n",
    "\n",
    "Solve the PDE with Crank Nicolson using **Nt** = 500. Experiment with **Nx** to see what is the lowest number required to get the option value at $x_0$ as a percentage of $x_0$ to be within 1 basis point (0.01%) of  4.01% i.e. $\\frac{option value}{110}\\approx 4.01\\% \\pm 0.01\\%$ by running the autograding cells.  \n",
    "\n",
    "Hint: Nx will be a large number well in excess of 1000.\n",
    "\n",
    "(25 marks)"
   ]
  },
  {
   "cell_type": "code",
   "execution_count": 33,
   "metadata": {
    "deletable": false,
    "nbgrader": {
     "cell_type": "code",
     "checksum": "9f16e79771ecbc0cca303564be3b675f",
     "grade": false,
     "grade_id": "cell-e6d3d355e4758968",
     "locked": false,
     "schema_version": 3,
     "solution": true,
     "task": false
    }
   },
   "outputs": [
    {
     "name": "stdout",
     "output_type": "stream",
     "text": [
      "test 1: True\n",
      "test 2: True\n",
      "9.881193608905076e-05\n",
      "test 3: True\n",
      "True\n"
     ]
    }
   ],
   "source": [
    "def Crank_Nicolson_FDM_CEV(σ, r, K, KI, KO, T, Nx, Nt, β, m=2):\n",
    "    # ADD CODE HERE\n",
    "    \n",
    "    xs = np.linspace(0, m*K, Nx+1) \n",
    "    Δx = xs[1]-xs[0]\n",
    "    Δt = T / Nt \n",
    "    \n",
    "    # initial condition of option\n",
    "    V = np.maximum(xs-K, 0)\n",
    "    KI_index = np.where(xs < KI)\n",
    "    KO_index = np.where(xs >= KO)\n",
    "    V[KI_index[0]] = 0\n",
    "    V[KO_index[0]] = 0\n",
    "\n",
    "    # Set up RHS matrix diagonals\n",
    "    d0 = 1 - 0.5*(σ**2 * np.power(xs,2*β)*Δt/Δx**2 + r*Δt) # ADD CODE HERE\n",
    "    d1 = 0.5*0.5*(r*xs[0:-1]*Δt/Δx + σ**2 *np.power(xs[0:-1],2*β)*Δt/Δx**2) # ADD CODE HERE\n",
    "    dm1 = 0.5*0.5*(σ**2 * np.power(xs[1:],2*β)*Δt/Δx**2 - r*xs[1:]*Δt/Δx) # ADD CODE HERE\n",
    "    \n",
    "    # Boundary condition for small asset price\n",
    "    d0[0] = 1\n",
    "    d1[0] = 0\n",
    "    \n",
    "    # Boundary condition for large asset price\n",
    "    d0[-1] = 0 # ADD CODE HERE\n",
    "    dm1[-1] = 0 # ADD CODE HERE\n",
    "    \n",
    "    # Construct RHS matrix\n",
    "    B = diags([dm1,d0,d1], [-1, 0, 1], shape=(Nx+1,Nx+1), dtype=float)\n",
    "\n",
    "    # Set up LHS matrix diagonals\n",
    "    d0 = 2-d0 # ADD CODE HERE\n",
    "    d1 = -d1 # ADD CODE HERE\n",
    "    dm1 = -dm1 # ADD CODE HERE\n",
    "    dm2 = np.zeros(Nx-1)\n",
    "    \n",
    "    # Boundary condition for small asset price\n",
    "    d0[0] = 1/(1 - r * Δt) # ADD CODE HERE\n",
    "    d1[0] = 0 # ADD CODE HERE\n",
    "    \n",
    "    # Boundary condition for large asset price\n",
    "    d0[-1] = 1\n",
    "    dm1[-1] = -2\n",
    "    dm2[-1] = 1\n",
    "\n",
    "    # Construct LHS matrix\n",
    "    A = diags([dm2,dm1,d0,d1], [-2,-1, 0, 1], shape=(Nx+1,Nx+1), dtype=float)\n",
    "    A = A.tocsr()\n",
    "    \n",
    "    for t in range(Nt):\n",
    "        V = B.dot(V)\n",
    "        V = spsolve(A,V)\n",
    "    \n",
    "    return V, xs\n",
    "\n",
    "Nt = 500\n",
    "# ADD CODE HERE\n",
    "\n",
    "V2, xs2 = Crank_Nicolson_FDM_CEV(σ, r, K, KI, KO, T, Nx, Nt, β, m)\n",
    "test1 = len(V2) == len(xs2)\n",
    "test2 = xs2[0] == 0\n",
    "print('test 1:', test1)\n",
    "print('test 2:', test2)\n",
    "dx2 = xs2[1] - xs2[0]\n",
    "idx2 = X0 / dx2\n",
    "if idx2.is_integer():\n",
    "    print(math.fabs(V2[int(idx2)] / X0 - 0.0401))\n",
    "    print(\"test 3:\", math.fabs(V2[int(idx2)] / X0 - 0.0401) < 1e-4)\n",
    "else:\n",
    "    diff2 = V2[int(idx2) + 1] - V2[int(idx2)]\n",
    "    interpolation2 = V2[int(idx2)] + (idx2 - int(idx2)) * diff2\n",
    "    print(math.fabs(interpolation2 / X0 - 0.0401))\n",
    "    print(\"test 4:\", math.fabs(interpolation2 / X0 - 0.0401) < 1e-4)\n",
    "print((np.abs(V1 - V2) < 1e-4).all())"
   ]
  },
  {
   "cell_type": "code",
   "execution_count": 34,
   "metadata": {
    "deletable": false,
    "editable": false,
    "nbgrader": {
     "cell_type": "code",
     "checksum": "41b0fcb375018e2291fcab4f1c1088c3",
     "grade": true,
     "grade_id": "cell-e9158ab1b984cf08",
     "locked": true,
     "points": 5,
     "schema_version": 3,
     "solution": false,
     "task": false
    }
   },
   "outputs": [
    {
     "name": "stdout",
     "output_type": "stream",
     "text": [
      "Wall time: 1.11 s\n"
     ]
    }
   ],
   "source": [
    "%%time \n",
    "\n",
    "V2, xs2 = Crank_Nicolson_FDM_CEV(σ, r, K, KI, KO, T, Nx, Nt, β, m)\n",
    "\n",
    "assert len(V2) == len(xs2)\n",
    "assert xs2[0] == 0"
   ]
  },
  {
   "cell_type": "code",
   "execution_count": 35,
   "metadata": {
    "deletable": false,
    "editable": false,
    "nbgrader": {
     "cell_type": "code",
     "checksum": "cce0a6bf915fe79e618a2c7281b1a047",
     "grade": true,
     "grade_id": "cell-d18a91e669df1c9a",
     "locked": true,
     "points": 20,
     "schema_version": 3,
     "solution": false,
     "task": false
    }
   },
   "outputs": [
    {
     "name": "stdout",
     "output_type": "stream",
     "text": [
      "Option price as a percentage of spot at x0 = 110 is 4.01988%\n"
     ]
    }
   ],
   "source": [
    "dx2 = xs2[1] - xs2[0]\n",
    "idx2 = X0 / dx2\n",
    "if idx2.is_integer():\n",
    "    print('Option price as a percentage of spot at x0 = {0:.0f} is {1:.5%}'.format(X0, V2[int(idx2)] / X0))\n",
    "    assert math.fabs(V2[int(idx2)] / X0 - 0.0401) < 1e-4\n",
    "else:\n",
    "    diff2 = V2[int(idx2) + 1] - V2[int(idx2)]\n",
    "    interpolation2 = V2[int(idx2)] + (idx2 - int(idx2)) * diff2\n",
    "    print('Option price as a percentage of spot at x0 = {0:.0f} is {1:.5%}'.format(X0, interpolation2 / X0))\n",
    "    assert math.fabs(interpolation2 / X0 - 0.0401) < 1e-4"
   ]
  },
  {
   "cell_type": "markdown",
   "metadata": {
    "deletable": false,
    "editable": false,
    "nbgrader": {
     "cell_type": "markdown",
     "checksum": "1b61f5750ab9c47b2975ed576badd831",
     "grade": false,
     "grade_id": "cell-2cb992079a8063c7",
     "locked": true,
     "schema_version": 3,
     "solution": false,
     "task": false
    }
   },
   "source": [
    "### c) Richardson Extrapolation\n",
    "\n",
    "Solve the PDE with using Richardson Extrapolation on Crank Nicolson using **Nt** = 250. The function should execute two runs of teh Crank Nicolson algorithm defined above. The first run will use **Nx** and **Nt** given in the argument. The second run should double **Nx** i.e. scale $\\Delta x$ down by half. Determine what is the appropriate value for **Nt** for this run and then perform Richardson Extrapolation on the values returned by both runs. \n",
    "\n",
    "The final Richardson Extrapolated price vector will be returned as **V**. The function will return both of the **xs** variables. **xs_run1** is for the first run while **xs_run2** is for the second run. The number of time steps for the first run and second run will also be returned in **Nt_run1** and **Nt_run2**. This is used  \n",
    "\n",
    "Experiment with **Nx** to see what is the lowest number required to get the option value at $x_0$ as a percentage of $x_0$ to be within 1 basis point (0.01%) of  4.01% i.e. $\\frac{option value}{110}\\approx 4.01\\% \\pm 0.01\\%$ by running the autograding cells.\n",
    "\n",
    "Hint: Nx will be a large number well in excess of 1000.\n",
    "\n",
    "(50 marks)"
   ]
  },
  {
   "cell_type": "code",
   "execution_count": 36,
   "metadata": {
    "deletable": false,
    "nbgrader": {
     "cell_type": "code",
     "checksum": "ca98ef402ca2f3be5da03a7c4bc7ae5a",
     "grade": false,
     "grade_id": "cell-d2f2f971dfb43526",
     "locked": false,
     "schema_version": 3,
     "solution": true,
     "task": false
    }
   },
   "outputs": [],
   "source": [
    "def Richardson(σ, r, K, KI, KO, T, Nx, Nt, β, m=2):\n",
    "    # ADD CODE HERE\n",
    "    \n",
    "    Nt_run1 = Nt\n",
    "    V_run1, xs_run1 = Crank_Nicolson_FDM_CEV(σ, r, K, KI, KO, T, Nx, Nt_run1, β, m=2)\n",
    "    Δx_run1 = xs_run1[1]-xs_run1[0]\n",
    "    \n",
    "    # multiply Nt by 2 as Nx is multiplied by 2\n",
    "    Nt_run2 = 2*Nt\n",
    "    V_run2, xs_run2 = Crank_Nicolson_FDM_CEV(σ, r, K, KI, KO, T, 2*Nx, Nt_run2, β, m=2)\n",
    "    Δx_run2 = xs_run2[1]-xs_run2[0]\n",
    "    \n",
    "    # calculate V\n",
    "    V = (np.multiply(Δx_run2**2,V_run1) - np.multiply(Δx_run1**2,V_run2[::2])) / (Δx_run2**2 - Δx_run1**2)\n",
    "    \n",
    "    return V, xs_run1, xs_run2, Nt_run1, Nt_run2\n",
    "\n",
    "Nt=250\n",
    "# ADD CODE HERE"
   ]
  },
  {
   "cell_type": "code",
   "execution_count": 37,
   "metadata": {
    "deletable": false,
    "editable": false,
    "nbgrader": {
     "cell_type": "code",
     "checksum": "bd3bbd8aea95374fa454cd26e5fceb34",
     "grade": true,
     "grade_id": "cell-b93e210070b40b21",
     "locked": true,
     "points": 25,
     "schema_version": 3,
     "solution": false,
     "task": false
    }
   },
   "outputs": [
    {
     "name": "stdout",
     "output_type": "stream",
     "text": [
      "Wall time: 2.38 s\n"
     ]
    }
   ],
   "source": [
    "%%time \n",
    "\n",
    "V3, xs3, xs3b, Nt1, Nt2 = Richardson(σ, r, K, KI, KO, T, Nx, Nt, β, m)\n",
    "\n",
    "assert len(V3) == len(xs3)\n",
    "assert xs3[0] == 0"
   ]
  },
  {
   "cell_type": "code",
   "execution_count": 38,
   "metadata": {
    "deletable": false,
    "editable": false,
    "nbgrader": {
     "cell_type": "code",
     "checksum": "4223b66e1f8b8b62ca46c35d4b658372",
     "grade": true,
     "grade_id": "cell-0ca7b3838101039c",
     "locked": true,
     "points": 25,
     "schema_version": 3,
     "solution": false,
     "task": false
    }
   },
   "outputs": [
    {
     "name": "stdout",
     "output_type": "stream",
     "text": [
      "Option price as a percentage of spot at x0 = 110 is 4.01244%\n"
     ]
    }
   ],
   "source": [
    "dx3 = xs3[1] - xs3[0]\n",
    "idx3 = X0 / dx3\n",
    "if idx3.is_integer():\n",
    "    print('Option price as a percentage of spot at x0 = {0:.0f} is {1:.5%}'.format(X0, V3[int(idx3)] / X0))\n",
    "    assert math.fabs(V3[int(idx3)] / X0 - 0.0401) < 1e-4\n",
    "else:\n",
    "    diff3 = V3[int(idx3) + 1] - V3[int(idx3)]\n",
    "    interpolation3 = V3[int(idx3)] + (idx3 - int(idx3)) * diff3\n",
    "    print('Option price as a percentage of spot at x0 = {0:.0f} is {1:.5%}'.format(X0, interpolation3 / X0))\n",
    "    assert math.fabs(interpolation3 / X0 - 0.0401) < 1e-4"
   ]
  },
  {
   "cell_type": "markdown",
   "metadata": {
    "deletable": false,
    "editable": false,
    "nbgrader": {
     "cell_type": "markdown",
     "checksum": "03942bcdf79650f98d46c66b7c8798d2",
     "grade": false,
     "grade_id": "cell-22df03ee0b6babcc",
     "locked": true,
     "schema_version": 3,
     "solution": false,
     "task": false
    }
   },
   "source": [
    "Run the cell below which will plot all 3 outputs and the lines should overlap."
   ]
  },
  {
   "cell_type": "code",
   "execution_count": 39,
   "metadata": {
    "deletable": false,
    "editable": false,
    "nbgrader": {
     "cell_type": "code",
     "checksum": "f139943fe810c276ab529ac0f4964763",
     "grade": false,
     "grade_id": "cell-e8fe28af138c763e",
     "locked": true,
     "schema_version": 3,
     "solution": false,
     "task": false
    }
   },
   "outputs": [
    {
     "data": {
      "image/png": "[encoded data removed]",
      "text/plain": [
       "<Figure size 432x288 with 1 Axes>"
      ]
     },
     "metadata": {
      "needs_background": "light"
     },
     "output_type": "display_data"
    }
   ],
   "source": [
    "%matplotlib inline\n",
    "\n",
    "plt.plot(xs1, V1, xs2, V2, xs3, V3)\n",
    "plt.title(\"KIKO call\");"
   ]
  },
  {
   "cell_type": "code",
   "execution_count": null,
   "metadata": {
    "scrolled": true
   },
   "outputs": [],
   "source": []
  },
  {
   "cell_type": "code",
   "execution_count": null,
   "metadata": {},
   "outputs": [],
   "source": []
  },
  {
   "cell_type": "code",
   "execution_count": null,
   "metadata": {},
   "outputs": [],
   "source": []
  }
 ],
 "metadata": {
  "kernelspec": {
   "display_name": "Python 3",
   "language": "python",
   "name": "python3"
  },
  "language_info": {
   "codemirror_mode": {
    "name": "ipython",
    "version": 3
   },
   "file_extension": ".py",
   "mimetype": "text/x-python",
   "name": "python",
   "nbconvert_exporter": "python",
   "pygments_lexer": "ipython3",
   "version": "3.7.4"
  }
 },
 "nbformat": 4,
 "nbformat_minor": 5
}
