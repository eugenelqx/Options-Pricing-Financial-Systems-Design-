{
 "cells": [
  {
   "cell_type": "markdown",
   "metadata": {
    "deletable": false,
    "editable": false,
    "nbgrader": {
     "cell_type": "markdown",
     "checksum": "3ceb12d41232d581354822690bb73a0a",
     "grade": false,
     "grade_id": "cell-696452efd683fbb7",
     "locked": true,
     "schema_version": 3,
     "solution": false,
     "task": false
    }
   },
   "source": [
    "# ESD 40.317 Financial Systems Design \n",
    "## Part 2 Assignment 4\n",
    "### Due: 16 August before midnight \n",
    "\n",
    "Do not change any of the function definitions or variable names that are given in the cells for you to provide the solution. These function and variable names are used to autograde your solution and changing them might cause the autograder to fail and hence award 0 marks."
   ]
  },
  {
   "cell_type": "markdown",
   "metadata": {
    "deletable": false,
    "editable": false,
    "nbgrader": {
     "cell_type": "markdown",
     "checksum": "d5558849bd212db62e1df1c58138c04d",
     "grade": false,
     "grade_id": "cell-5bc4a203601b4989",
     "locked": true,
     "schema_version": 3,
     "solution": false,
     "task": false
    }
   },
   "source": [
    "We will be continuing with the Constant Elasticity of Variance (CEV) model for risk-neutral stock price evolution with $\\beta = 0.75$. Recall the SDE:    \n",
    "\n",
    "$$dX = rXdt + σX^β dW$$\n",
    "\n",
    "We will be computing the price of the same European up-and-in call option but with Monte Carlo simulations. The terms are: expiration in 0.5 years, strike price of \\\\$100 and EKI barrier at \\\\$115 which is only observed at maturity. The current stock price, $x_0$, is \\\\$110 with a volatility of 25\\%. The interest rate is constant at 2\\%.\n"
   ]
  },
  {
   "cell_type": "code",
   "execution_count": 1,
   "metadata": {
    "deletable": false,
    "editable": false,
    "nbgrader": {
     "cell_type": "code",
     "checksum": "bef5de71ec67f86ae61e3581f1c3bcce",
     "grade": false,
     "grade_id": "cell-bcff5962c8153600",
     "locked": true,
     "schema_version": 3,
     "solution": false,
     "task": false
    }
   },
   "outputs": [],
   "source": [
    "import math\n",
    "import numpy as np\n",
    "from scipy.stats import norm\n",
    "\n",
    "X0 = 110.; K = 100; T = 0.5; r = 0.02; σ = 0.25; B = 115; β = 0.75  # parameters"
   ]
  },
  {
   "cell_type": "markdown",
   "metadata": {},
   "source": [
    "### a) Milstein Scheme\n",
    "\n",
    "Use the Milstein scheme to simulate the price path of the underlying asset. For the CEV process, the scheme will be\n",
    "\n",
    "$X_{t+\\Delta t}  = X_t + rX_t \\Delta t + \\sigma X_t^β \\sqrt{\\Delta t} Z+\\frac{1}{2}\\beta \\sigma^2 X_t^{2β-1} \\Delta t(Z^2-1)$ where $Z~N(0,1)$\n",
    "\n",
    "Complete the **milstein** function definition below that generates N number of stock price paths using the Milstein scheme under the CEV model. The function takes in the following arguments:\n",
    "1. X0 is the initial stock price\n",
    "2. T is the duration for the price path\n",
    "3. $\\sigma$ is the volatility\n",
    "4. r is the interest rate\n",
    "5. $\\beta$ is the elasticity of variance with respect to X\n",
    "6. N is the total number of simulations\n",
    "7. steps is the number of equally spaced intervals to reach time T\n",
    "\n",
    "The function should return a numpy array of shape (N, ). Each element represents the final price of the simulated path for the stock price starting from X0.\n",
    "\n",
    "(20 marks)"
   ]
  },
  {
   "cell_type": "code",
   "execution_count": 2,
   "metadata": {
    "deletable": false,
    "nbgrader": {
     "cell_type": "code",
     "checksum": "edaa5a5c4c82455fd35704b3fe44cf94",
     "grade": false,
     "grade_id": "cell-2eace7f736961061",
     "locked": false,
     "schema_version": 3,
     "solution": true,
     "task": false
    }
   },
   "outputs": [],
   "source": [
    "def milstein(X0, T, σ, r, β, N, steps):\n",
    "    # ADD CODE HERE\n",
    "    Δt = T/steps\n",
    "    X = X0*np.ones(N)\n",
    "    prng = np.random.RandomState() \n",
    "    z = prng.standard_normal((N, steps)) # create an array of randomly generated numbers. rows for # of paths, col for steps\n",
    "    for t in range(steps):\n",
    "        X += r*X*Δt + σ*X**β*math.sqrt(Δt)*z[:,t] + 0.5*β*σ**2*X**(2*β-1)*Δt*(np.power(z[:,t],2)-1)\n",
    "    \n",
    "    return X\n",
    "# S0 = 100\n",
    "# test1 = S0*np.ones(10)\n",
    "# print(test1)\n",
    "# prng = np.random.RandomState(5) \n",
    "# Z = prng.standard_normal((10,5))\n",
    "# Y = np.linspace(1,10,10)\n",
    "# print(Z)\n",
    "# print(Z[:,1]*test1)\n",
    "# print(X1.shape)"
   ]
  },
  {
   "cell_type": "code",
   "execution_count": 3,
   "metadata": {
    "deletable": false,
    "editable": false,
    "nbgrader": {
     "cell_type": "code",
     "checksum": "b2bb268cd3ad803d20b346d4fd405fc7",
     "grade": true,
     "grade_id": "cell-d854752e4afcd795",
     "locked": true,
     "points": 20,
     "schema_version": 3,
     "solution": false,
     "task": false
    }
   },
   "outputs": [
    {
     "name": "stdout",
     "output_type": "stream",
     "text": [
      "Wall time: 21.9 s\n"
     ]
    }
   ],
   "source": [
    "%%time\n",
    "\n",
    "X1 = milstein(X0, T, σ, 0.2, β, 500000, 100)\n",
    "\n",
    "assert X1.shape == (500000,)"
   ]
  },
  {
   "cell_type": "markdown",
   "metadata": {
    "deletable": false,
    "editable": false,
    "nbgrader": {
     "cell_type": "markdown",
     "checksum": "6899a354ef87f7dcb3f3fb7b8b1f9ed8",
     "grade": false,
     "grade_id": "cell-2e5574075db004d6",
     "locked": true,
     "schema_version": 3,
     "solution": false,
     "task": false
    }
   },
   "source": [
    "### b) Standard Monte Carlo\n",
    "\n",
    "Complete the **eki_call** function definition below that will be used to find the price of the option using the Monte Carlo method.\n",
    "\n",
    "(20 marks)"
   ]
  },
  {
   "cell_type": "code",
   "execution_count": 4,
   "metadata": {
    "deletable": false,
    "nbgrader": {
     "cell_type": "code",
     "checksum": "7b0b4bc130814bc4378ea3344dddfb2f",
     "grade": false,
     "grade_id": "cell-d7813cb2de34df42",
     "locked": false,
     "schema_version": 3,
     "solution": true,
     "task": false
    }
   },
   "outputs": [],
   "source": [
    "def eki_call(X0, K, B, T, σ, r, β, N, steps):\n",
    "    X = milstein(X0, T, σ, r, β, N, steps)\n",
    "    # ADD CODE HERE\n",
    "    # at this point, we have the asset price at maturity for each path\n",
    "    KI = X>B\n",
    "    V = math.exp(-r*T)*np.maximum(X-K,0)*KI\n",
    "    \n",
    "    # process the price\n",
    "    price = np.average(V)\n",
    "    \n",
    "    # process the stderr\n",
    "    stderr = np.std(V, ddof=1) / N**0.5\n",
    "    \n",
    "    return price, stderr\n",
    "\n",
    "# print(math.fabs(price1 - 4.77) < 4e-2)"
   ]
  },
  {
   "cell_type": "code",
   "execution_count": 5,
   "metadata": {
    "deletable": false,
    "editable": false,
    "nbgrader": {
     "cell_type": "code",
     "checksum": "4232f9dbe01a01f406bf8a0a6f999524",
     "grade": true,
     "grade_id": "cell-7a9d31e9cef0f425",
     "locked": true,
     "points": 20,
     "schema_version": 3,
     "solution": false,
     "task": false
    }
   },
   "outputs": [
    {
     "name": "stdout",
     "output_type": "stream",
     "text": [
      "Wall time: 21.7 s\n"
     ]
    }
   ],
   "source": [
    "%%time\n",
    "\n",
    "price1, stderr1 = eki_call(X0, K, B, T, σ, r, β, 500000, 100)\n",
    "assert math.fabs(price1 - 4.77) < 4e-2"
   ]
  },
  {
   "cell_type": "markdown",
   "metadata": {
    "deletable": false,
    "editable": false,
    "nbgrader": {
     "cell_type": "markdown",
     "checksum": "94114f0164a23bb8d5ef70d73c30a71f",
     "grade": false,
     "grade_id": "cell-43d099643244091e",
     "locked": true,
     "schema_version": 3,
     "solution": false,
     "task": false
    }
   },
   "source": [
    "Complete the **eki_call_control** function definition below that will be used to find the price of the option using the Monte Carlo method with the additional use of a control variable. The control variable will be the price of a European vanilla call option under the CEV model. The function **cev_vanilla_call** to calculate the price of the vanilla call under the CEV model is provided for you in the cell below.\n",
    "\n",
    "(20 marks)"
   ]
  },
  {
   "cell_type": "code",
   "execution_count": 6,
   "metadata": {
    "deletable": false,
    "editable": false,
    "nbgrader": {
     "cell_type": "code",
     "checksum": "5365d4ae858a9ba27df4211684c432f9",
     "grade": false,
     "grade_id": "cell-5a67bed97329e739",
     "locked": true,
     "schema_version": 3,
     "solution": false,
     "task": false
    }
   },
   "outputs": [],
   "source": [
    "from scipy.stats import ncx2\n",
    "\n",
    "def cev_vanilla_call(X0, K, T, σ, r, β):\n",
    "    b = β - 1\n",
    "    n = 2 + 1 / math.fabs(b)\n",
    "    p = 2*r*X0**(-2*b) / (σ**2*b*(math.exp(2*r*b*T) - 1))\n",
    "    d = 2*r*K**(-2*b) / (σ**2*b*(1 - math.exp(-2*r*b*T)))\n",
    "    return X0*ncx2.sf(d, n, p) - math.exp(-r*T)*K*ncx2.cdf(p, n-2, d)"
   ]
  },
  {
   "cell_type": "code",
   "execution_count": 8,
   "metadata": {
    "deletable": false,
    "nbgrader": {
     "cell_type": "code",
     "checksum": "cf2901360eba4f257fc8e608d5599a0e",
     "grade": false,
     "grade_id": "cell-4619b7f2ee861393",
     "locked": false,
     "schema_version": 3,
     "solution": true,
     "task": false
    }
   },
   "outputs": [],
   "source": [
    "def eki_call_control(X0, K, B, T, σ, r, β, N, steps):\n",
    "    X = milstein(X0, T, σ, r, β, N, steps)\n",
    "    # ADD CODE HERE\n",
    "    # simulate the cev vanilla call prices\n",
    "    cv = math.exp(-r*T)*np.maximum(X-K,0)\n",
    "    avg_cv = np.average(cv)\n",
    "    \n",
    "    KI = X>B\n",
    "    V = math.exp(-r*T)*np.maximum(X-K,0)*KI\n",
    "    \n",
    "    cov = np.cov(cv, V, ddof=1)\n",
    "    adj = -cov[0,1]/cov[0,0]\n",
    "    \n",
    "    price = np.sum(V)/N + adj*(avg_cv - cev_vanilla_call(X0, K, T, σ, r, β))\n",
    "    stderr = math.sqrt((cov[1,1] - cov[0,1]**2/cov[0,0])/N)\n",
    "    \n",
    "    return price, stderr\n",
    "# print(math.fabs(price2 - 4.77) < 3e-2)"
   ]
  },
  {
   "cell_type": "code",
   "execution_count": 9,
   "metadata": {
    "deletable": false,
    "editable": false,
    "nbgrader": {
     "cell_type": "code",
     "checksum": "189525499b4d44317dfcddad5ebf8e4f",
     "grade": true,
     "grade_id": "cell-4713dd3efb1fe331",
     "locked": true,
     "points": 20,
     "schema_version": 3,
     "solution": false,
     "task": false
    }
   },
   "outputs": [
    {
     "name": "stdout",
     "output_type": "stream",
     "text": [
      "Wall time: 22.2 s\n"
     ]
    }
   ],
   "source": [
    "%%time\n",
    "\n",
    "price2, stderr2 = eki_call_control(X0, K, B, T, σ, r, β, 500000, 100)\n",
    "assert math.fabs(price2 - 4.77) < 3e-2"
   ]
  },
  {
   "cell_type": "markdown",
   "metadata": {
    "deletable": false,
    "editable": false,
    "nbgrader": {
     "cell_type": "markdown",
     "checksum": "d73caaf698acbbf191748fbdee1982fa",
     "grade": false,
     "grade_id": "cell-d7ed86d88aa8122b",
     "locked": true,
     "schema_version": 3,
     "solution": false,
     "task": false
    }
   },
   "source": [
    "(c)\tInstead of the barrier being observed at maturity only, we will try and price the same option but with the barrier observed continuously which is called American Knock-In (AKI) in the industry. This means the option will knock in if the asset trades above the barrier at any point during the lifetime of the option. \n",
    "\n",
    "Complete two function definitions below:\n",
    "1. **max_milstein** is a modified version of the milstein function of part a) which will return in additon to the array of final price, the maximum price attained for the simulated path\n",
    "2. **aki_call** will be used to find the price of the option using the Monte Carlo method.\n",
    "\n",
    "(40 marks)"
   ]
  },
  {
   "cell_type": "code",
   "execution_count": 10,
   "metadata": {
    "deletable": false,
    "nbgrader": {
     "cell_type": "code",
     "checksum": "f52e318a7fbd11dd66dd2c04d4b55c95",
     "grade": false,
     "grade_id": "cell-c65f26920d86a75f",
     "locked": false,
     "schema_version": 3,
     "solution": true,
     "task": false
    }
   },
   "outputs": [],
   "source": [
    "def max_milstein(X0, T, σ, r, β, N, steps):\n",
    "    # ADD CODE HERE\n",
    "    max_X = X0*np.ones(N)\n",
    "    Δt = T/steps\n",
    "    X = X0*np.ones(N)\n",
    "    prng = np.random.RandomState() \n",
    "    z = prng.standard_normal((N, steps)) # create an array of randomly generated numbers. rows for # of paths, col for steps\n",
    "    for t in range(steps):\n",
    "        X += r*X*Δt + σ*X**β*math.sqrt(Δt)*z[:,t] + 0.5*β*σ**2*X**(2*β-1)*Δt*(np.power(z[:,t],2)-1)\n",
    "        max_X = np.maximum(X, max_X)\n",
    "    \n",
    "    \n",
    "    return X, max_X\n",
    "    \n",
    "\n",
    "def aki_call(X0, K, B, T, σ, r, β, N, steps):\n",
    "    X, max_X = max_milstein(X0, T, σ, r, β, N, steps)\n",
    "    # ADD CODE HERE\n",
    "    \n",
    "    KI = max_X>B\n",
    "    V = math.exp(-r*T)*np.maximum(X-K,0)*KI\n",
    "    \n",
    "    # process the price\n",
    "    price = np.average(V)\n",
    "    \n",
    "    # process the stderr\n",
    "    stderr = np.std(V, ddof=1) / N**0.5\n",
    "    \n",
    "    return price, stderr\n"
   ]
  },
  {
   "cell_type": "code",
   "execution_count": 11,
   "metadata": {
    "deletable": false,
    "editable": false,
    "nbgrader": {
     "cell_type": "code",
     "checksum": "44efc8fd17755969f336deee32e5a02e",
     "grade": true,
     "grade_id": "cell-c019be15ea86d9f2",
     "locked": true,
     "points": 20,
     "schema_version": 3,
     "solution": false,
     "task": false
    }
   },
   "outputs": [
    {
     "name": "stdout",
     "output_type": "stream",
     "text": [
      "Wall time: 22.9 s\n"
     ]
    }
   ],
   "source": [
    "%%time\n",
    "\n",
    "X, max_X = max_milstein(X0, T, σ, 0.2, β, 500000, 100)\n",
    "\n",
    "assert X.shape == (500000,)\n",
    "assert max_X.shape == (500000,)"
   ]
  },
  {
   "cell_type": "code",
   "execution_count": 12,
   "metadata": {
    "deletable": false,
    "editable": false,
    "nbgrader": {
     "cell_type": "code",
     "checksum": "3da79765e01246a848a76e20efb48d7e",
     "grade": true,
     "grade_id": "cell-adb191fdd29a7d0d",
     "locked": true,
     "points": 20,
     "schema_version": 3,
     "solution": false,
     "task": false
    }
   },
   "outputs": [
    {
     "name": "stdout",
     "output_type": "stream",
     "text": [
      "Wall time: 44.3 s\n"
     ]
    }
   ],
   "source": [
    "%%time\n",
    "\n",
    "price3, stderr3 = aki_call(X0, K, B, T, σ, r, β, 50000, 2000)\n",
    "assert math.fabs(price3 - 7.15) < 0.1"
   ]
  },
  {
   "cell_type": "code",
   "execution_count": 13,
   "metadata": {},
   "outputs": [
    {
     "name": "stdout",
     "output_type": "stream",
     "text": [
      "(500000,)\n",
      "(500000,)\n",
      "156.86922921752162\n",
      "[122.36433089 125.12538225 114.08802345 ... 111.65267997 120.64490825\n",
      " 122.12932584]\n",
      "[123.74133325 125.14077104 120.05164625 ... 114.7257344  120.64490825\n",
      " 123.74579354]\n",
      "0.03435960993322951\n",
      "7.18435960993323\n"
     ]
    }
   ],
   "source": [
    "print(X.shape)\n",
    "print(max_X.shape)\n",
    "print(np.max(max_X))\n",
    "print(X)\n",
    "print(max_X)\n",
    "print(math.fabs(price3 - 7.15))\n",
    "print(price3)"
   ]
  },
  {
   "cell_type": "code",
   "execution_count": null,
   "metadata": {},
   "outputs": [],
   "source": []
  }
 ],
 "metadata": {
  "kernelspec": {
   "display_name": "Python 3",
   "language": "python",
   "name": "python3"
  },
  "language_info": {
   "codemirror_mode": {
    "name": "ipython",
    "version": 3
   },
   "file_extension": ".py",
   "mimetype": "text/x-python",
   "name": "python",
   "nbconvert_exporter": "python",
   "pygments_lexer": "ipython3",
   "version": "3.7.4"
  }
 },
 "nbformat": 4,
 "nbformat_minor": 5
}
